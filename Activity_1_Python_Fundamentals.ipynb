{
  "nbformat": 4,
  "nbformat_minor": 0,
  "metadata": {
    "colab": {
      "name": "Activity 1 - Python Fundamentals",
      "provenance": [],
      "authorship_tag": "ABX9TyP1g7a3GCMbNpYwVXgfua/S",
      "include_colab_link": true
    },
    "kernelspec": {
      "name": "python3",
      "display_name": "Python 3"
    },
    "language_info": {
      "name": "python"
    }
  },
  "cells": [
    {
      "cell_type": "markdown",
      "metadata": {
        "id": "view-in-github",
        "colab_type": "text"
      },
      "source": [
        "<a href=\"https://colab.research.google.com/github/ptrciabnquit/Linear-Algebra_2nd-Sem/blob/main/Activity_1_Python_Fundamentals.ipynb\" target=\"_parent\"><img src=\"https://colab.research.google.com/assets/colab-badge.svg\" alt=\"Open In Colab\"/></a>"
      ]
    },
    {
      "cell_type": "markdown",
      "source": [
        ""
      ],
      "metadata": {
        "id": "DHHrrEFAsMqf"
      }
    },
    {
      "cell_type": "markdown",
      "source": [
        "# Welcome to Python Fundamentals\n",
        "\n",
        "In this module, we are going to establish or review our skills in Python programming. In this notebook we are going to cover:\n",
        "\n",
        "* Variables and Data Types \n",
        "* Operations\n",
        "* Input and Output Operations\n",
        "* Logic Control\n",
        "* Iterables\n",
        "* Functions"
      ],
      "metadata": {
        "id": "UTwKEGi3sSCG"
      }
    },
    {
      "cell_type": "markdown",
      "source": [
        "## Variable and Data Types"
      ],
      "metadata": {
        "id": "OxAWl6RptCsc"
      }
    },
    {
      "cell_type": "markdown",
      "source": [
        ""
      ],
      "metadata": {
        "id": "kFboMg_nZi_O"
      }
    },
    {
      "cell_type": "code",
      "source": [
        "p = 13\n",
        "a,t = 5, 29\n",
        "p"
      ],
      "metadata": {
        "colab": {
          "base_uri": "https://localhost:8080/"
        },
        "id": "LVGb3m66tTLI",
        "outputId": "b23b86e5-c4e1-4a63-a5e2-ff2eb4c5391b"
      },
      "execution_count": null,
      "outputs": [
        {
          "output_type": "execute_result",
          "data": {
            "text/plain": [
              "13"
            ]
          },
          "metadata": {},
          "execution_count": 6
        }
      ]
    },
    {
      "cell_type": "code",
      "source": [
        "type (p)"
      ],
      "metadata": {
        "colab": {
          "base_uri": "https://localhost:8080/"
        },
        "id": "aZHTxFw5vRN1",
        "outputId": "e334329a-f2db-4fac-b6c1-2440596e3c90"
      },
      "execution_count": null,
      "outputs": [
        {
          "output_type": "execute_result",
          "data": {
            "text/plain": [
              "int"
            ]
          },
          "metadata": {},
          "execution_count": 7
        }
      ]
    },
    {
      "cell_type": "code",
      "source": [
        "k = 3.0\n",
        "type (k)"
      ],
      "metadata": {
        "colab": {
          "base_uri": "https://localhost:8080/"
        },
        "id": "4I5qkUcYvbN1",
        "outputId": "e3ed44b2-33ec-46a5-c9da-80eed6de99d2"
      },
      "execution_count": null,
      "outputs": [
        {
          "output_type": "execute_result",
          "data": {
            "text/plain": [
              "float"
            ]
          },
          "metadata": {},
          "execution_count": 11
        }
      ]
    },
    {
      "cell_type": "code",
      "source": [
        "k = float (k)\n",
        "type (k)"
      ],
      "metadata": {
        "colab": {
          "base_uri": "https://localhost:8080/"
        },
        "id": "elKx7y2_vomE",
        "outputId": "585e3d8e-204d-4c7b-cad7-3bda276f8df8"
      },
      "execution_count": null,
      "outputs": [
        {
          "output_type": "execute_result",
          "data": {
            "text/plain": [
              "float"
            ]
          },
          "metadata": {},
          "execution_count": 22
        }
      ]
    },
    {
      "cell_type": "code",
      "source": [
        "a,d,u = \"0\", '2', 'uno'\n",
        "type (u)"
      ],
      "metadata": {
        "colab": {
          "base_uri": "https://localhost:8080/"
        },
        "id": "tu3wBzFrw9eg",
        "outputId": "cbe377ae-7a79-4bf6-dbd5-849cc08b7966"
      },
      "execution_count": null,
      "outputs": [
        {
          "output_type": "execute_result",
          "data": {
            "text/plain": [
              "str"
            ]
          },
          "metadata": {},
          "execution_count": 17
        }
      ]
    },
    {
      "cell_type": "code",
      "source": [
        "a_int = int(a)\n",
        "type (a)"
      ],
      "metadata": {
        "colab": {
          "base_uri": "https://localhost:8080/"
        },
        "id": "TTgvpDh1xMTh",
        "outputId": "57440d01-ccc5-48da-c6b5-aba1f00ede45"
      },
      "execution_count": null,
      "outputs": [
        {
          "output_type": "execute_result",
          "data": {
            "text/plain": [
              "str"
            ]
          },
          "metadata": {},
          "execution_count": 21
        }
      ]
    },
    {
      "cell_type": "markdown",
      "source": [
        "## Operations"
      ],
      "metadata": {
        "id": "hD7DGbiix_vl"
      }
    },
    {
      "cell_type": "markdown",
      "source": [
        "###### Operators are Python's particular characters for solving math or logic computation. The operand is the value that the operator performs on—for instance, 2+10=12. Here the + sign is the operator that carries out the given equation. Additionally, 2 and 10 are known as the operands, and 12 is the operation's output."
      ],
      "metadata": {
        "id": "TfOOq754bH2G"
      }
    },
    {
      "cell_type": "markdown",
      "source": [
        "### Arithmetic"
      ],
      "metadata": {
        "id": "n48k3auhyC1r"
      }
    },
    {
      "cell_type": "markdown",
      "source": [
        ""
      ],
      "metadata": {
        "id": "8NNHfMyydWyt"
      }
    },
    {
      "cell_type": "code",
      "source": [
        "p,a,t = 2, 10, 10"
      ],
      "metadata": {
        "id": "hXjHN80HySij"
      },
      "execution_count": null,
      "outputs": []
    },
    {
      "cell_type": "code",
      "source": [
        "#### Addition\n",
        "s = p+a\n",
        "s"
      ],
      "metadata": {
        "colab": {
          "base_uri": "https://localhost:8080/"
        },
        "id": "l6tQzhZBycqM",
        "outputId": "312508e4-0f13-4523-f030-7b5453d34e23"
      },
      "execution_count": null,
      "outputs": [
        {
          "output_type": "execute_result",
          "data": {
            "text/plain": [
              "12"
            ]
          },
          "metadata": {},
          "execution_count": 53
        }
      ]
    },
    {
      "cell_type": "code",
      "source": [
        "### Multiplication\n",
        "p = a*t\n",
        "p"
      ],
      "metadata": {
        "colab": {
          "base_uri": "https://localhost:8080/"
        },
        "id": "bqEuebav0znB",
        "outputId": "1325f22b-05fc-4213-f36a-a89f7a1c6995"
      },
      "execution_count": null,
      "outputs": [
        {
          "output_type": "execute_result",
          "data": {
            "text/plain": [
              "100"
            ]
          },
          "metadata": {},
          "execution_count": 56
        }
      ]
    },
    {
      "cell_type": "code",
      "source": [
        "### Floor Division\n",
        "Fq = a//t\n",
        "Fq"
      ],
      "metadata": {
        "colab": {
          "base_uri": "https://localhost:8080/"
        },
        "id": "Xh0LHnQcz0i4",
        "outputId": "0434ae3f-e494-4326-c8cb-94c1ddc8f9a0"
      },
      "execution_count": null,
      "outputs": [
        {
          "output_type": "execute_result",
          "data": {
            "text/plain": [
              "1"
            ]
          },
          "metadata": {},
          "execution_count": 55
        }
      ]
    },
    {
      "cell_type": "code",
      "source": [
        "### Exponentiation\n",
        "e = a**t\n",
        "e"
      ],
      "metadata": {
        "colab": {
          "base_uri": "https://localhost:8080/"
        },
        "id": "2kHgRakt08LU",
        "outputId": "3eb8a1fb-6a59-404e-ad88-abdb280c3b47"
      },
      "execution_count": null,
      "outputs": [
        {
          "output_type": "execute_result",
          "data": {
            "text/plain": [
              "10000000000"
            ]
          },
          "metadata": {},
          "execution_count": 57
        }
      ]
    },
    {
      "cell_type": "code",
      "source": [
        "### Modulo\n",
        "mod = t%a\n",
        "mod"
      ],
      "metadata": {
        "colab": {
          "base_uri": "https://localhost:8080/"
        },
        "id": "I480XKQg1GGa",
        "outputId": "f35cfb26-d4fd-4af3-b80b-82009b9dba0e"
      },
      "execution_count": null,
      "outputs": [
        {
          "output_type": "execute_result",
          "data": {
            "text/plain": [
              "0"
            ]
          },
          "metadata": {},
          "execution_count": 58
        }
      ]
    },
    {
      "cell_type": "markdown",
      "source": [
        "### Assignment Operations"
      ],
      "metadata": {
        "id": "1RuKXua01iC1"
      }
    },
    {
      "cell_type": "markdown",
      "source": [
        "###### Assignment Operators functions to assign values to variables. The following are some examples of assignment operators that this activity utilized: \n",
        "\n",
        "1. =, this functions to assign the value of ride of expression to the operand on the left side \n",
        "\n",
        "2. +=, this will add the operand on the right side alongside the operand on the left side operand \n",
        "\n",
        "3. -=, this assignment operator subtracts the right operand from the left operand then assign it to the left operand \n",
        "\n",
        "4. *=, it multiplies right operand with left operand then assign to left operand \n",
        "\n",
        "5. **=, this will calculate the exponent value using operands and assign value to left operand "
      ],
      "metadata": {
        "id": "wUah9-oGdjK6"
      }
    },
    {
      "cell_type": "code",
      "source": [
        "Y,K,L = 6, 18, 56\n",
        "Y += a\n",
        "Y"
      ],
      "metadata": {
        "colab": {
          "base_uri": "https://localhost:8080/"
        },
        "id": "2Bw7nk7i1mfk",
        "outputId": "5f98eab3-6df9-49c6-c65c-b8c6c1cde7af"
      },
      "execution_count": null,
      "outputs": [
        {
          "output_type": "execute_result",
          "data": {
            "text/plain": [
              "16"
            ]
          },
          "metadata": {},
          "execution_count": 61
        }
      ]
    },
    {
      "cell_type": "code",
      "source": [
        "K -= a\n",
        "K"
      ],
      "metadata": {
        "colab": {
          "base_uri": "https://localhost:8080/"
        },
        "id": "n8uJHkAS2SWX",
        "outputId": "a3607cf1-84cc-42e5-a7cb-2a3a285609ff"
      },
      "execution_count": null,
      "outputs": [
        {
          "output_type": "execute_result",
          "data": {
            "text/plain": [
              "8"
            ]
          },
          "metadata": {},
          "execution_count": 62
        }
      ]
    },
    {
      "cell_type": "code",
      "source": [
        "L *= a\n",
        "L"
      ],
      "metadata": {
        "colab": {
          "base_uri": "https://localhost:8080/"
        },
        "id": "lEwvK8io2aaD",
        "outputId": "0620424f-9b0d-4cda-f330-71a5bdffb41f"
      },
      "execution_count": null,
      "outputs": [
        {
          "output_type": "execute_result",
          "data": {
            "text/plain": [
              "5600"
            ]
          },
          "metadata": {},
          "execution_count": 64
        }
      ]
    },
    {
      "cell_type": "code",
      "source": [
        "K **= 1\n",
        "K"
      ],
      "metadata": {
        "colab": {
          "base_uri": "https://localhost:8080/"
        },
        "id": "K53oJF9d27VW",
        "outputId": "410ad82b-271e-4e91-fccd-bb7528c5fe7b"
      },
      "execution_count": null,
      "outputs": [
        {
          "output_type": "execute_result",
          "data": {
            "text/plain": [
              "2"
            ]
          },
          "metadata": {},
          "execution_count": 58
        }
      ]
    },
    {
      "cell_type": "markdown",
      "source": [
        "### Comparators"
      ],
      "metadata": {
        "id": "dttG0owE3Zdr"
      }
    },
    {
      "cell_type": "code",
      "source": [
        "res_1, res_2, res_3 = 1, 2, 3\n",
        "true_val = 1"
      ],
      "metadata": {
        "id": "xGMhOoHK3dOL"
      },
      "execution_count": null,
      "outputs": []
    },
    {
      "cell_type": "code",
      "source": [
        "## Equality \n",
        "res_1 == true_val"
      ],
      "metadata": {
        "colab": {
          "base_uri": "https://localhost:8080/"
        },
        "id": "LehE1Rwg3qoI",
        "outputId": "bb99755e-c132-406e-ec58-f25922ca636e"
      },
      "execution_count": null,
      "outputs": [
        {
          "output_type": "execute_result",
          "data": {
            "text/plain": [
              "True"
            ]
          },
          "metadata": {},
          "execution_count": 72
        }
      ]
    },
    {
      "cell_type": "code",
      "source": [
        "## Equality \n",
        "res_2 == true_val\n"
      ],
      "metadata": {
        "colab": {
          "base_uri": "https://localhost:8080/"
        },
        "id": "CQ_wEYAx3zO2",
        "outputId": "50ec967a-5b27-477d-b400-9265a5351c0b"
      },
      "execution_count": null,
      "outputs": [
        {
          "output_type": "execute_result",
          "data": {
            "text/plain": [
              "False"
            ]
          },
          "metadata": {},
          "execution_count": 73
        }
      ]
    },
    {
      "cell_type": "code",
      "source": [
        "## Non-equality\n",
        "res_2 != true_val"
      ],
      "metadata": {
        "colab": {
          "base_uri": "https://localhost:8080/"
        },
        "id": "dzDNenBV35-o",
        "outputId": "ddffc533-2b2e-480b-e392-7ad782eda584"
      },
      "execution_count": null,
      "outputs": [
        {
          "output_type": "execute_result",
          "data": {
            "text/plain": [
              "True"
            ]
          },
          "metadata": {},
          "execution_count": 75
        }
      ]
    },
    {
      "cell_type": "code",
      "source": [
        "## Inequality\n",
        "t1 = res_1 > res_2\n",
        "t2 = res_1 < res_2/2\n",
        "t3 = res_1 >= res_2/2\n",
        "t4 = res_1 <= res_2 \n",
        "t1"
      ],
      "metadata": {
        "colab": {
          "base_uri": "https://localhost:8080/"
        },
        "id": "MeBkqeqF4Uc8",
        "outputId": "6162bf00-abcb-48bc-c1de-c8469b8a9b45"
      },
      "execution_count": null,
      "outputs": [
        {
          "output_type": "execute_result",
          "data": {
            "text/plain": [
              "False"
            ]
          },
          "metadata": {},
          "execution_count": 76
        }
      ]
    },
    {
      "cell_type": "code",
      "source": [
        "## Inequality\n",
        "t1 = res_1 > res_2\n",
        "t2 = res_1 < res_2/2\n",
        "t3 = res_1 >= res_2/2\n",
        "t4 = res_1 <= res_2 \n",
        "t2"
      ],
      "metadata": {
        "colab": {
          "base_uri": "https://localhost:8080/"
        },
        "outputId": "5dc1f33c-1d60-4ae8-d3f6-0ed5034514a8",
        "id": "ILSrtHph48ec"
      },
      "execution_count": null,
      "outputs": [
        {
          "output_type": "execute_result",
          "data": {
            "text/plain": [
              "False"
            ]
          },
          "metadata": {},
          "execution_count": 77
        }
      ]
    },
    {
      "cell_type": "code",
      "source": [
        "## Inequality\n",
        "t1 = res_1 > res_2\n",
        "t2 = res_1 < res_2/2\n",
        "t3 = res_1 >= res_2/2\n",
        "t4 = res_1 <= res_2 \n",
        "t3"
      ],
      "metadata": {
        "colab": {
          "base_uri": "https://localhost:8080/"
        },
        "outputId": "4b2e0c78-adf4-4669-859b-5cfbd89ea419",
        "id": "R-UI4Lbk5FWY"
      },
      "execution_count": null,
      "outputs": [
        {
          "output_type": "execute_result",
          "data": {
            "text/plain": [
              "True"
            ]
          },
          "metadata": {},
          "execution_count": 78
        }
      ]
    },
    {
      "cell_type": "code",
      "source": [
        "## Inequality\n",
        "t1 = res_1 > res_2\n",
        "t2 = res_1 < res_2/2\n",
        "t3 = res_1 >= res_2/2\n",
        "t4 = res_1 <= res_2 \n",
        "t4"
      ],
      "metadata": {
        "colab": {
          "base_uri": "https://localhost:8080/"
        },
        "outputId": "ce8972d8-4efe-405a-db38-23752d8b554d",
        "id": "E3mXqXW-5LOl"
      },
      "execution_count": null,
      "outputs": [
        {
          "output_type": "execute_result",
          "data": {
            "text/plain": [
              "True"
            ]
          },
          "metadata": {},
          "execution_count": 79
        }
      ]
    },
    {
      "cell_type": "markdown",
      "source": [
        "### Logical"
      ],
      "metadata": {
        "id": "rphqo1Za5TMD"
      }
    },
    {
      "cell_type": "markdown",
      "source": [
        "###### A logical operator is a character or term that joins various expressions. The value of the original statements entirely influences the validity of the compound expression generated and the operator's significance. This activity used logical operators such as AND, OR, and NOT."
      ],
      "metadata": {
        "id": "PsYwbh6Oich7"
      }
    },
    {
      "cell_type": "code",
      "source": [
        "res_1 == true_val"
      ],
      "metadata": {
        "colab": {
          "base_uri": "https://localhost:8080/"
        },
        "id": "v2KveLnE5Ups",
        "outputId": "71f0780d-7137-4d01-a732-536ec0f8bfe9"
      },
      "execution_count": null,
      "outputs": [
        {
          "output_type": "execute_result",
          "data": {
            "text/plain": [
              "True"
            ]
          },
          "metadata": {},
          "execution_count": 80
        }
      ]
    },
    {
      "cell_type": "code",
      "source": [
        "res_1 is true_val"
      ],
      "metadata": {
        "colab": {
          "base_uri": "https://localhost:8080/"
        },
        "id": "V4xp9KwQ5eU0",
        "outputId": "e6a9e8ba-4de6-49dc-a4dc-8acd6ae2031d"
      },
      "execution_count": null,
      "outputs": [
        {
          "output_type": "execute_result",
          "data": {
            "text/plain": [
              "True"
            ]
          },
          "metadata": {},
          "execution_count": 81
        }
      ]
    },
    {
      "cell_type": "code",
      "source": [
        "res_1 is not true_val"
      ],
      "metadata": {
        "colab": {
          "base_uri": "https://localhost:8080/"
        },
        "id": "q27e-Zi_5r3w",
        "outputId": "e4ca3c1f-3f8e-4c08-ec07-a93d09f885aa"
      },
      "execution_count": null,
      "outputs": [
        {
          "output_type": "execute_result",
          "data": {
            "text/plain": [
              "False"
            ]
          },
          "metadata": {},
          "execution_count": 82
        }
      ]
    },
    {
      "cell_type": "code",
      "source": [
        "n,b = True, False\n",
        "conj = n and b\n",
        "conj"
      ],
      "metadata": {
        "colab": {
          "base_uri": "https://localhost:8080/"
        },
        "id": "M4KJUuOh5vh4",
        "outputId": "f57ffbe6-4adb-430d-d1a7-de26845aa372"
      },
      "execution_count": null,
      "outputs": [
        {
          "output_type": "execute_result",
          "data": {
            "text/plain": [
              "False"
            ]
          },
          "metadata": {},
          "execution_count": 85
        }
      ]
    },
    {
      "cell_type": "code",
      "source": [
        "n,b = True, False\n",
        "disj = n or b\n",
        "disj"
      ],
      "metadata": {
        "colab": {
          "base_uri": "https://localhost:8080/"
        },
        "id": "6mWm7IE56T3u",
        "outputId": "87966587-aa5a-43f7-85c3-f25997d0b54a"
      },
      "execution_count": null,
      "outputs": [
        {
          "output_type": "execute_result",
          "data": {
            "text/plain": [
              "True"
            ]
          },
          "metadata": {},
          "execution_count": 88
        }
      ]
    },
    {
      "cell_type": "code",
      "source": [
        "n, b = True, False\n",
        "o = not(n)\n",
        "o"
      ],
      "metadata": {
        "colab": {
          "base_uri": "https://localhost:8080/"
        },
        "id": "xN5afhxb7cOj",
        "outputId": "eab4cf5a-c8b8-44f3-bf18-5e3e29266cf2"
      },
      "execution_count": null,
      "outputs": [
        {
          "output_type": "execute_result",
          "data": {
            "text/plain": [
              "False"
            ]
          },
          "metadata": {},
          "execution_count": 90
        }
      ]
    },
    {
      "cell_type": "markdown",
      "source": [
        "### I/O"
      ],
      "metadata": {
        "id": "jmQLTNUS76k0"
      }
    },
    {
      "cell_type": "code",
      "source": [
        "print(\"Hello World\")"
      ],
      "metadata": {
        "colab": {
          "base_uri": "https://localhost:8080/"
        },
        "id": "o-_mfet48F3T",
        "outputId": "ad50eaee-4ecd-432f-ec32-e627431e6863"
      },
      "execution_count": null,
      "outputs": [
        {
          "output_type": "stream",
          "name": "stdout",
          "text": [
            "Hello World\n"
          ]
        }
      ]
    },
    {
      "cell_type": "code",
      "source": [
        "cnt = 1"
      ],
      "metadata": {
        "id": "R5scj0qV8R85"
      },
      "execution_count": null,
      "outputs": []
    },
    {
      "cell_type": "code",
      "source": [
        "string = \"Hello World\"\n",
        "print(string, \", Current run count is: \", cnt)\n",
        "cnt =+ 3"
      ],
      "metadata": {
        "colab": {
          "base_uri": "https://localhost:8080/"
        },
        "id": "6C_vWz1e8WZ4",
        "outputId": "53c3dcee-675f-4c42-d4a0-f1700c0063fb"
      },
      "execution_count": null,
      "outputs": [
        {
          "output_type": "stream",
          "name": "stdout",
          "text": [
            "Hello World , Current run count is:  10\n"
          ]
        }
      ]
    },
    {
      "cell_type": "code",
      "source": [
        "sem_grade = 98.67906\n",
        "name = \"Pat\"\n",
        "print(\"Hello\", name, \", your semestral grade is: \", sem_grade)"
      ],
      "metadata": {
        "colab": {
          "base_uri": "https://localhost:8080/"
        },
        "id": "CL0JSGjM9ilC",
        "outputId": "e35511d7-3a35-451f-f77a-512df74a26f9"
      },
      "execution_count": null,
      "outputs": [
        {
          "output_type": "stream",
          "name": "stdout",
          "text": [
            "Hello Pat , your semestral grade is:  98.67906\n"
          ]
        }
      ]
    },
    {
      "cell_type": "code",
      "source": [
        "w_pg, w_mg, w_fg = 0.3, 0.3, 0.4\n",
        "print(\"The weights of your semestral grade are: \\\n",
        "\\n\\t{: .2%} for Prelims\\\n",
        "\\n\\t{: .2%} for Midterms, and\\\n",
        "\\n\\t{: .2%} for Finals.\".format(w_pg, w_mg, w_fg))"
      ],
      "metadata": {
        "colab": {
          "base_uri": "https://localhost:8080/"
        },
        "id": "FU1uWIJy5lbT",
        "outputId": "ace3b6ca-fbba-4e41-90b0-e25e723f6ff0"
      },
      "execution_count": null,
      "outputs": [
        {
          "output_type": "stream",
          "name": "stdout",
          "text": [
            "The weights of your semestral grade are: \n",
            "\t 30.00% for Prelims\n",
            "\t 30.00% for Midterms, and\n",
            "\t 40.00% for Finals.\n"
          ]
        }
      ]
    },
    {
      "cell_type": "code",
      "source": [
        "x = input(\"enter a number: \")\n",
        "x"
      ],
      "metadata": {
        "colab": {
          "base_uri": "https://localhost:8080/",
          "height": 53
        },
        "id": "SkKIlDwnudxJ",
        "outputId": "38ad3a5a-13fe-432e-d6cc-864bcc7d87e2"
      },
      "execution_count": null,
      "outputs": [
        {
          "name": "stdout",
          "output_type": "stream",
          "text": [
            "enter a number: 13\n"
          ]
        },
        {
          "output_type": "execute_result",
          "data": {
            "application/vnd.google.colaboratory.intrinsic+json": {
              "type": "string"
            },
            "text/plain": [
              "'13'"
            ]
          },
          "metadata": {},
          "execution_count": 51
        }
      ]
    },
    {
      "cell_type": "code",
      "source": [
        "name = input(\"Input your name: \")\n",
        "pg = input(\"Enter prelim grade: \")\n",
        "mg = input(\"Enter midterm grade: \")\n",
        "fg = input(\"Enter finals grade: \")\n",
        "sem_grade = None"
      ],
      "metadata": {
        "colab": {
          "base_uri": "https://localhost:8080/"
        },
        "id": "EAt98--Vu847",
        "outputId": "8cd63e53-3950-4b31-ad4b-a09e4fa40315"
      },
      "execution_count": null,
      "outputs": [
        {
          "name": "stdout",
          "output_type": "stream",
          "text": [
            "Input your name: Patricia\n",
            "Enter prelim grade: 100\n",
            "Enter midterm grade: 100\n",
            "Enter finals grade: 100\n"
          ]
        }
      ]
    },
    {
      "cell_type": "markdown",
      "source": [
        "# Looping Statements"
      ],
      "metadata": {
        "id": "cvIcIAkvv9Ir"
      }
    },
    {
      "cell_type": "markdown",
      "source": [
        "###### It comprises a series of operations that are repeated znumerous times until the desired result is reached. Python includes two looping statements: for and while, which are employed to identify them in this exercise."
      ],
      "metadata": {
        "id": "pZ50ChyVli89"
      }
    },
    {
      "cell_type": "markdown",
      "source": [
        "## While"
      ],
      "metadata": {
        "id": "YXFLxgLwwEBB"
      }
    },
    {
      "cell_type": "code",
      "source": [
        "## while loops\n",
        "i, j = 0, 13\n",
        "while(i<=j):\n",
        "  print(f\"{i}\\t|\\t{j}\")\n",
        "  i+=1"
      ],
      "metadata": {
        "colab": {
          "base_uri": "https://localhost:8080/"
        },
        "id": "K5tN-JjlwGAE",
        "outputId": "872ed0b2-379e-4258-a69e-810cf0368c48"
      },
      "execution_count": null,
      "outputs": [
        {
          "output_type": "stream",
          "name": "stdout",
          "text": [
            "0\t|\t13\n",
            "1\t|\t13\n",
            "2\t|\t13\n",
            "3\t|\t13\n",
            "4\t|\t13\n",
            "5\t|\t13\n",
            "6\t|\t13\n",
            "7\t|\t13\n",
            "8\t|\t13\n",
            "9\t|\t13\n",
            "10\t|\t13\n",
            "11\t|\t13\n",
            "12\t|\t13\n",
            "13\t|\t13\n"
          ]
        }
      ]
    },
    {
      "cell_type": "markdown",
      "source": [
        "## For"
      ],
      "metadata": {
        "id": "eNQcR-izxkQw"
      }
    },
    {
      "cell_type": "markdown",
      "source": [
        "###### A \"For\" Loop is used to loop a code block a predetermined amount of times. In the \"For\" loop, the number of iterations to be performed is already known. It is employed to achieve the desired outcome. On the contrary, in a while loop, the command runs until a particular condition is satisfied and the statement is proven to be wrong."
      ],
      "metadata": {
        "id": "k2jg0-Bz2eBn"
      }
    },
    {
      "cell_type": "code",
      "source": [
        "# for(int i=0; i<11; i++){\n",
        "# printf(i)\n",
        "# }\n",
        "\n",
        "#i=0\n",
        "for i in range(11):\n",
        "  print(i)"
      ],
      "metadata": {
        "colab": {
          "base_uri": "https://localhost:8080/"
        },
        "id": "Lm-119jwxl9M",
        "outputId": "7f3442b8-be7b-41f0-e4b7-846105fcfaca"
      },
      "execution_count": null,
      "outputs": [
        {
          "output_type": "stream",
          "name": "stdout",
          "text": [
            "0\n",
            "1\n",
            "2\n",
            "3\n",
            "4\n",
            "5\n",
            "6\n",
            "7\n",
            "8\n",
            "9\n",
            "10\n"
          ]
        }
      ]
    },
    {
      "cell_type": "code",
      "source": [
        "playlist = [\"Dynamite\", \"Butter\", \"Love Myself\"]\n",
        "print('Now Playing:\\n')\n",
        "for song in playlist:\n",
        "  print(song)"
      ],
      "metadata": {
        "colab": {
          "base_uri": "https://localhost:8080/"
        },
        "id": "el38-FWWyQb6",
        "outputId": "f68987a8-80c3-443f-a981-c7755dc96e0d"
      },
      "execution_count": null,
      "outputs": [
        {
          "output_type": "stream",
          "name": "stdout",
          "text": [
            "Now Playing:\n",
            "\n",
            "Dynamite\n",
            "Butter\n",
            "Love Myself\n"
          ]
        }
      ]
    },
    {
      "cell_type": "markdown",
      "source": [
        "## Flow Control"
      ],
      "metadata": {
        "id": "0GJlO_h2zJk-"
      }
    },
    {
      "cell_type": "markdown",
      "source": [
        "### Condition Statements"
      ],
      "metadata": {
        "id": "QU3QSL_izL8V"
      }
    },
    {
      "cell_type": "markdown",
      "source": [
        "###### In a Python programming language, the if statement governs the program flow. The \"elif\" and \"else\"  functions are seen in most if statements. This indicates that while there may be various \"elif\", there is only one \"else\". The if statement must end with the \"else\"; thus, no other \"elif\" branches can be added."
      ],
      "metadata": {
        "id": "nHtJHWh2r9Ew"
      }
    },
    {
      "cell_type": "code",
      "source": [
        "numeral1, numeral2 = 13, 14\n",
        "if(numeral1 == numeral2):\n",
        "  print(\"Yey\")\n",
        "elif(numeral1>numeral2):\n",
        "    print(\"Hoho\")\n",
        "else:\n",
        "    print(\"Wews\")"
      ],
      "metadata": {
        "colab": {
          "base_uri": "https://localhost:8080/"
        },
        "id": "SRS7BEKtzONi",
        "outputId": "1b480efb-aae0-44eb-eab3-e0dbc168024d"
      },
      "execution_count": null,
      "outputs": [
        {
          "output_type": "stream",
          "name": "stdout",
          "text": [
            "Wews\n"
          ]
        }
      ]
    },
    {
      "cell_type": "markdown",
      "source": [
        "## Functions"
      ],
      "metadata": {
        "id": "2GeizxcS1dpp"
      }
    },
    {
      "cell_type": "markdown",
      "source": [
        "###### A function in Python is a series of interrelated statements that executes a particular task. Functions aid in the division of the program into more superficial, flexible portions. Functions help the program become more ordered and accessible as it increases in size and prevents duplication."
      ],
      "metadata": {
        "id": "loaBOu_U3XtU"
      }
    },
    {
      "cell_type": "code",
      "source": [
        "# void DeleteUser(int userid){\n",
        "#      delete(userid);\n",
        "# }\n",
        "\n",
        "def delete_user (userid):\n",
        "    print(\"Successfully deleted user: {}\".format(userid))\n",
        "\n",
        "def delete_all_users ():\n",
        "    print(\"eupH0$hZ sIr\")"
      ],
      "metadata": {
        "id": "793UH-7O1fch"
      },
      "execution_count": null,
      "outputs": []
    },
    {
      "cell_type": "code",
      "source": [
        "userid = \"Pat\"\n",
        "delete_user(\"Pat\")\n",
        "delete_all_users()"
      ],
      "metadata": {
        "colab": {
          "base_uri": "https://localhost:8080/"
        },
        "id": "A-A7WPJb2Taq",
        "outputId": "5751f2e2-8592-4ebf-bc0e-a79a930987a4"
      },
      "execution_count": null,
      "outputs": [
        {
          "output_type": "stream",
          "name": "stdout",
          "text": [
            "Successfully deleted user: Pat\n",
            "eupH0$hZ sIr\n"
          ]
        }
      ]
    },
    {
      "cell_type": "code",
      "source": [
        "def add(addend1, addend2):\n",
        "    return addend1 + addend2 \n",
        "\n",
        "def power_of_base5(exponent):\n",
        "    return 2**exponent"
      ],
      "metadata": {
        "id": "PF2s-HLB3WOB"
      },
      "execution_count": null,
      "outputs": []
    },
    {
      "cell_type": "code",
      "source": [
        "addend1, addend2 = 10,20\n",
        "#add(addend1, addednd2)\n",
        "\n",
        "exponent = 5\n",
        "power_of_base5(exponent)"
      ],
      "metadata": {
        "colab": {
          "base_uri": "https://localhost:8080/"
        },
        "id": "w52zr3Rf3v3Q",
        "outputId": "6f31d628-2a27-4bda-b884-f9261193dc53"
      },
      "execution_count": null,
      "outputs": [
        {
          "output_type": "execute_result",
          "data": {
            "text/plain": [
              "32"
            ]
          },
          "metadata": {},
          "execution_count": 48
        }
      ]
    },
    {
      "cell_type": "markdown",
      "source": [
        "### Assignment 1"
      ],
      "metadata": {
        "id": "ZNpA1arvNlZN"
      }
    },
    {
      "cell_type": "code",
      "source": [
        "w_pg, w_mg, w_fg = 0.30, 0.30, 0.40\n",
        "name = input(\"Enter your name: \")\n",
        "course = input(\"Enter your course: \")\n",
        "yearlevel = input(\"Enter your year level: \")\n",
        "pg = float(input(\"Enter Prelim Grade: \"))\n",
        "mg = float(input(\"Enter Midterm Grade: \"))\n",
        "fg = float(input(\"Enter Finals Grade: \"))\n",
        "sem_grade = (pg*w_pg) + (mg*w_mg) + (fg*w_fg)\n",
        "print(\"Your Sem Grade is: {: .2f} \".format (sem_grade))\n",
        "if(sem_grade > 70): print(\"\\U0001F600\")\n",
        "elif(sem_grade == 70): print(\"\\U0001F606\")\n",
        "else: print(\"\\U0001F62D\")\n"
      ],
      "metadata": {
        "colab": {
          "base_uri": "https://localhost:8080/"
        },
        "id": "haFNmmduNv4v",
        "outputId": "9ce19532-f43b-4027-c275-c6b01761916e"
      },
      "execution_count": 46,
      "outputs": [
        {
          "output_type": "stream",
          "name": "stdout",
          "text": [
            "Enter your name: Patricia Jenine P. Baniquit\n",
            "Enter your course: B.S. Chemical Engineering\n",
            "Enter your year level: 2nd Year\n",
            "Enter Prelim Grade: 99.99876\n",
            "Enter Midterm Grade: 99.22\n",
            "Enter Finals Grade: 99.0987234567\n",
            "Your Sem Grade is:  99.41 \n",
            "😀\n"
          ]
        }
      ]
    }
  ]
}
{
  "nbformat": 4,
  "nbformat_minor": 0,
  "metadata": {
    "colab": {
      "name": "Assignment9_Baniquit",
      "provenance": [],
      "authorship_tag": "ABX9TyP/oR1zZfxhFccqcPx2S8BA",
      "include_colab_link": true
    },
    "kernelspec": {
      "name": "python3",
      "display_name": "Python 3"
    },
    "language_info": {
      "name": "python"
    }
  },
  "cells": [
    {
      "cell_type": "markdown",
      "metadata": {
        "id": "view-in-github",
        "colab_type": "text"
      },
      "source": [
        "<a href=\"https://colab.research.google.com/github/ptrciabnquit/Linear-Algebra_2nd-Sem/blob/main/Assignment9_Plotting%20Vector%20using%20NumPy%20and%20MatPlotLib.ipynb\" target=\"_parent\"><img src=\"https://colab.research.google.com/assets/colab-badge.svg\" alt=\"Open In Colab\"/></a>"
      ]
    },
    {
      "cell_type": "markdown",
      "source": [
        "Plotting Vector using NumPy and MatPlotLib"
      ],
      "metadata": {
        "id": "05zQA9TcClkl"
      }
    },
    {
      "cell_type": "markdown",
      "source": [
        "In this laboratory we will be discussing the basics of numerical and scientific programming by working with Vectors using NumPy and MatPlotLib."
      ],
      "metadata": {
        "id": "Z9rqTmvmCtFT"
      }
    },
    {
      "cell_type": "markdown",
      "source": [
        "### Objectives\n",
        "At the end of this activity you will be able to:\n",
        "1. Be familiar with the libraries in Python for numerical and scientific programming.\n",
        "2. Visualize vectors through Python programming.\n",
        "3. Perform simple vector operations through code."
      ],
      "metadata": {
        "id": "At5n_BuICy16"
      }
    },
    {
      "cell_type": "markdown",
      "source": [
        "## **NumPy**"
      ],
      "metadata": {
        "id": "W3sTlSQjC0Ii"
      }
    },
    {
      "cell_type": "markdown",
      "source": [
        "* Numpy executes a massive variety of array-based mathematical operations.It \n",
        "enriches Python with advanced analytical structures that provide systematic calculations with arrays and matrices and a vast collection of elevated mathematical operations that function on these arrays and matrices. In lieu, the Numpy (np. array) class is represented by matrices and vectors. Whereas a vector is a single-dimensional array that represents magnitude with directions. "
      ],
      "metadata": {
        "id": "eojFZsqPC39x"
      }
    },
    {
      "cell_type": "markdown",
      "source": [
        "Scalars \\\\\n",
        "Represent magnitude or a single value\n",
        "\n",
        "Vectors \\\\\n",
        "Represent magnitude with directions"
      ],
      "metadata": {
        "id": "UvYueUGDRCdd"
      }
    },
    {
      "cell_type": "markdown",
      "source": [
        "## ***Representing Vectors***"
      ],
      "metadata": {
        "id": "D9IVzf2ODAmw"
      }
    },
    {
      "cell_type": "markdown",
      "source": [
        "Now that you know how to represent vectors using their component and matrix form we can now hard-code them in Python. Let's say that you have the vectors:"
      ],
      "metadata": {
        "id": "eR3qAMnvDEjM"
      }
    },
    {
      "cell_type": "markdown",
      "source": [
        "$$ P = 13\\hat{x} + 4\\hat{y} \\\\\n",
        "J = 2\\hat{x} + 8\\hat{y}\\\\\n",
        "K = -3ax + 6ay - 3az \\\\\n",
        "D = 5\\hat{i} + 2\\hat{j} - 9\\hat{k}$$"
      ],
      "metadata": {
        "id": "suk23PghDF9A"
      }
    },
    {
      "cell_type": "markdown",
      "source": [
        "In which it's matrix equivalent is:"
      ],
      "metadata": {
        "id": "58eat6BMDRGA"
      }
    },
    {
      "cell_type": "markdown",
      "source": [
        "$$ P = \\begin{bmatrix} 13 \\\\ 4\\end{bmatrix} , J = \\begin{bmatrix} 2 \\\\ 8\\end{bmatrix} , K = \\begin{bmatrix} -3 \\\\ 6 \\\\  -3 \\end{bmatrix}, D = \\begin{bmatrix} 5 \\\\ 2 \\\\ -9\\end{bmatrix}\n",
        "$$\n",
        "$$ P = \\begin{bmatrix} 13 & 4\\end{bmatrix} , J = \\begin{bmatrix} 2 & 8\\end{bmatrix} , K = \\begin{bmatrix} -3 & 6 & -3\\end{bmatrix} , D = \\begin{bmatrix} 5 & 2 & -9\\end{bmatrix} \n",
        "$$"
      ],
      "metadata": {
        "id": "vZrLI2vCDRyo"
      }
    },
    {
      "cell_type": "markdown",
      "source": [
        "We can then start doing numpy code with this by:"
      ],
      "metadata": {
        "id": "B_BaseJOD2tL"
      }
    },
    {
      "cell_type": "code",
      "source": [
        "## Importing necessary libraries\n",
        "import numpy as np ## 'np' here is short-hand name of the library (numpy) or a nickname."
      ],
      "metadata": {
        "id": "j3flOacoD6Bh"
      },
      "execution_count": null,
      "outputs": []
    },
    {
      "cell_type": "code",
      "source": [
        "P = np.array([0, 2])\n",
        "A = np.array([-1, 2])\n",
        "T = np.array([\n",
        "              [5],\n",
        "              [5],\n",
        "              [5]\n",
        "])\n",
        "Y = np.array ([[-2],\n",
        "              [0],\n",
        "              [-3]])\n",
        "print('Vector P is ', P)\n",
        "print('Vector A is ', A)\n",
        "print('Vector T is ', T)\n",
        "print('Vector Y is ', Y)"
      ],
      "metadata": {
        "colab": {
          "base_uri": "https://localhost:8080/"
        },
        "id": "re2EvqbtEK_f",
        "outputId": "f03de031-7381-40b1-f34d-5df6b3509954"
      },
      "execution_count": null,
      "outputs": [
        {
          "output_type": "stream",
          "name": "stdout",
          "text": [
            "Vector P is  [0 2]\n",
            "Vector A is  [-1  2]\n",
            "Vector T is  [[5]\n",
            " [5]\n",
            " [5]]\n",
            "Vector Y is  [[-2]\n",
            " [ 0]\n",
            " [-3]]\n"
          ]
        }
      ]
    },
    {
      "cell_type": "markdown",
      "source": [
        "## ***Describing Vectors in NumPy***"
      ],
      "metadata": {
        "id": "iWPlgrCzEfJK"
      }
    },
    {
      "cell_type": "markdown",
      "source": [
        "* Describing vectors is a fundamental step for the user in order to conduct basic to complex operations. It entails describing the shape, size, and dimensions of vectors which are the vital techniques used to describe them."
      ],
      "metadata": {
        "id": "Z1tzPuslEuUW"
      }
    },
    {
      "cell_type": "code",
      "source": [
        "### Checking shapes\n",
        "### Shapes declare how many elements are there on each row and column\n",
        "\n",
        "P.shape\n",
        "A = np.array([2, 1, -4, 2, -1.5, 3])\n",
        "A.shape\n",
        "T.shape"
      ],
      "metadata": {
        "colab": {
          "base_uri": "https://localhost:8080/"
        },
        "id": "U2SKSCf-E36Z",
        "outputId": "a67b62ee-a7dd-4ca9-bfa1-5180ec8b2650"
      },
      "execution_count": null,
      "outputs": [
        {
          "output_type": "execute_result",
          "data": {
            "text/plain": [
              "(3, 1)"
            ]
          },
          "metadata": {},
          "execution_count": 18
        }
      ]
    },
    {
      "cell_type": "code",
      "source": [
        "### Checking size\n",
        "### Array/Vector sizes declare the total number of elements are there in the vector\n",
        "\n",
        "Y.size"
      ],
      "metadata": {
        "colab": {
          "base_uri": "https://localhost:8080/"
        },
        "id": "99zpWMDEF2s7",
        "outputId": "7a1046b7-cdda-46c2-9f12-3638f8e2f5dd"
      },
      "execution_count": null,
      "outputs": [
        {
          "output_type": "execute_result",
          "data": {
            "text/plain": [
              "3"
            ]
          },
          "metadata": {},
          "execution_count": 4
        }
      ]
    },
    {
      "cell_type": "code",
      "source": [
        "### Checking dimensions\n",
        "### The dimensions or rank of a vector declare how many dimensions are there for the vector.\n",
        "\n",
        "T.ndim"
      ],
      "metadata": {
        "colab": {
          "base_uri": "https://localhost:8080/"
        },
        "id": "W_eZeQ9rF8v0",
        "outputId": "92595396-edc3-45b2-dc82-ba42c2ad817f"
      },
      "execution_count": null,
      "outputs": [
        {
          "output_type": "execute_result",
          "data": {
            "text/plain": [
              "2"
            ]
          },
          "metadata": {},
          "execution_count": 5
        }
      ]
    },
    {
      "cell_type": "markdown",
      "source": [
        "Good job! ✅ We are done checking shapes, sizes, and dimensions the next step is to explore performing operations with these vectors"
      ],
      "metadata": {
        "id": "vvNkJRFAGBJ9"
      }
    },
    {
      "cell_type": "markdown",
      "source": [
        "### **ADDITION**"
      ],
      "metadata": {
        "id": "1VPiIjzyHJvw"
      }
    },
    {
      "cell_type": "markdown",
      "source": [
        "* The operation of addition is straightforward; the users should simply add the elements of the matrices depending on their index. *For instance, adding vector $P$ and vector $B$ we will have a resulting vector:*\n",
        "\n",
        "\n",
        "\n"
      ],
      "metadata": {
        "id": "6mkyO0XBHL6Z"
      }
    },
    {
      "cell_type": "markdown",
      "source": [
        "$$R = 10\\hat{x} -3\\hat{y} \\\\ \\\\or \\\\ \\\\ R = \\begin{bmatrix} 10 \\\\ -3\\end{bmatrix} $$"
      ],
      "metadata": {
        "id": "Mp5ivIR9Hl7p"
      }
    },
    {
      "cell_type": "markdown",
      "source": [
        "Creating that in NumPy in various ways:"
      ],
      "metadata": {
        "id": "C0YLKRGWH60d"
      }
    },
    {
      "cell_type": "code",
      "source": [
        "R1 = np.add(T, Y) ## this is the functional method using the numpy library\n",
        "R2= np.add(T, A)\n",
        "R1,R2"
      ],
      "metadata": {
        "id": "8s_hidtuICPn",
        "colab": {
          "base_uri": "https://localhost:8080/"
        },
        "outputId": "a01c99c3-abb4-41a3-a120-24d6ef7875a1"
      },
      "execution_count": null,
      "outputs": [
        {
          "output_type": "execute_result",
          "data": {
            "text/plain": [
              "(array([[ 3. ,  5. ,  8. ,  3.5,  7. ,  8. , 10. , 12. , 13. ],\n",
              "        [ 3. ,  5. ,  8. ,  3.5,  7. ,  8. , 10. , 12. , 13. ],\n",
              "        [ 3. ,  5. ,  8. ,  3.5,  7. ,  8. , 10. , 12. , 13. ]]),\n",
              " array([[7. , 6. , 1. , 7. , 3.5, 8. ],\n",
              "        [7. , 6. , 1. , 7. , 3.5, 8. ],\n",
              "        [7. , 6. , 1. , 7. , 3.5, 8. ]]))"
            ]
          },
          "metadata": {},
          "execution_count": 55
        }
      ]
    },
    {
      "cell_type": "code",
      "source": [
        "R = P + Y   ## this is the explicit method, since Python does a value-reference so it can \n",
        "            ## know that these variables would need to do array operations.\n",
        "R"
      ],
      "metadata": {
        "colab": {
          "base_uri": "https://localhost:8080/"
        },
        "id": "CdqWNmexIRSu",
        "outputId": "ce0ab4a8-29d7-410b-f06f-66125e5c60ac"
      },
      "execution_count": null,
      "outputs": [
        {
          "output_type": "execute_result",
          "data": {
            "text/plain": [
              "array([[-2,  0],\n",
              "       [ 0,  2],\n",
              "       [-3, -1]])"
            ]
          },
          "metadata": {},
          "execution_count": 59
        }
      ]
    },
    {
      "cell_type": "code",
      "source": [
        "R = np.add(T,A)\n",
        "R"
      ],
      "metadata": {
        "colab": {
          "base_uri": "https://localhost:8080/"
        },
        "id": "Z6LUfwKcG3hF",
        "outputId": "274eb625-e328-4b4d-bdcf-b3381e3a5da9"
      },
      "execution_count": null,
      "outputs": [
        {
          "output_type": "execute_result",
          "data": {
            "text/plain": [
              "array([[4, 7],\n",
              "       [4, 7],\n",
              "       [4, 7]])"
            ]
          },
          "metadata": {},
          "execution_count": 60
        }
      ]
    },
    {
      "cell_type": "code",
      "source": [
        "R = np.subtract(T,Y)\n",
        "R"
      ],
      "metadata": {
        "colab": {
          "base_uri": "https://localhost:8080/"
        },
        "id": "S0jqOTklHDRR",
        "outputId": "0455214f-6c51-4acd-bb2f-a2ca077621c9"
      },
      "execution_count": null,
      "outputs": [
        {
          "output_type": "execute_result",
          "data": {
            "text/plain": [
              "array([[7],\n",
              "       [5],\n",
              "       [8]])"
            ]
          },
          "metadata": {},
          "execution_count": 61
        }
      ]
    },
    {
      "cell_type": "code",
      "source": [
        "R = np.multiply(P,T)\n",
        "R"
      ],
      "metadata": {
        "colab": {
          "base_uri": "https://localhost:8080/"
        },
        "id": "L4Fe6xnDHOhJ",
        "outputId": "e5a5474f-651d-4d3c-ca11-7e55b92c2b4b"
      },
      "execution_count": null,
      "outputs": [
        {
          "output_type": "execute_result",
          "data": {
            "text/plain": [
              "array([[ 0, 10],\n",
              "       [ 0, 10],\n",
              "       [ 0, 10]])"
            ]
          },
          "metadata": {},
          "execution_count": 62
        }
      ]
    },
    {
      "cell_type": "code",
      "source": [
        "R = np.divide(T,A)\n",
        "R"
      ],
      "metadata": {
        "colab": {
          "base_uri": "https://localhost:8080/"
        },
        "id": "ABW8ekkMHU-B",
        "outputId": "2b5dc6e4-5192-463c-d117-1db5a04601e9"
      },
      "execution_count": null,
      "outputs": [
        {
          "output_type": "execute_result",
          "data": {
            "text/plain": [
              "array([[-5. ,  2.5],\n",
              "       [-5. ,  2.5],\n",
              "       [-5. ,  2.5]])"
            ]
          },
          "metadata": {},
          "execution_count": 63
        }
      ]
    },
    {
      "cell_type": "code",
      "source": [
        "pos1 = np.array([1,0,1])\n",
        "pos2 = np.array([1,2,3])\n",
        "pos3 = np.array([24,22,13])\n",
        "pos4 = np.array([2,4,2])\n",
        "R = pos1 + pos2 + pos3 + pos4\n",
        "R"
      ],
      "metadata": {
        "colab": {
          "base_uri": "https://localhost:8080/"
        },
        "id": "TyOE3V-yGlf9",
        "outputId": "a94947e7-88f8-46d6-dca9-843305f7e399"
      },
      "execution_count": null,
      "outputs": [
        {
          "output_type": "execute_result",
          "data": {
            "text/plain": [
              "array([28, 28, 19])"
            ]
          },
          "metadata": {},
          "execution_count": 23
        }
      ]
    },
    {
      "cell_type": "code",
      "source": [
        "pos1 = np.array([1,0,1])\n",
        "pos2 = np.array([1,2,3])\n",
        "pos3 = np.array([24,22,13])\n",
        "pos4 = np.array([2,4,2])\n",
        "R = np.multiply(pos3, pos4)\n",
        "R"
      ],
      "metadata": {
        "colab": {
          "base_uri": "https://localhost:8080/"
        },
        "id": "BVGq_1CGGqnn",
        "outputId": "1413277f-198e-49c1-b2fd-61bcb0cad9b1"
      },
      "execution_count": null,
      "outputs": [
        {
          "output_type": "execute_result",
          "data": {
            "text/plain": [
              "array([48, 88, 26])"
            ]
          },
          "metadata": {},
          "execution_count": 64
        }
      ]
    },
    {
      "cell_type": "code",
      "source": [
        "pos1 = np.array([1,0,1])\n",
        "pos2 = np.array([1,2,3])\n",
        "pos3 = np.array([24,22,13])\n",
        "pos4 = np.array([2,4,2])\n",
        "R = pos3 / pos4\n",
        "R"
      ],
      "metadata": {
        "colab": {
          "base_uri": "https://localhost:8080/"
        },
        "id": "wF3ri3QRKnlg",
        "outputId": "5f857055-bbf4-4580-af71-f317d9eee17d"
      },
      "execution_count": null,
      "outputs": [
        {
          "output_type": "execute_result",
          "data": {
            "text/plain": [
              "array([12. ,  5.5,  6.5])"
            ]
          },
          "metadata": {},
          "execution_count": 65
        }
      ]
    },
    {
      "cell_type": "markdown",
      "source": [
        "##### Try for yourself!"
      ],
      "metadata": {
        "id": "F-hh94K1LbUV"
      }
    },
    {
      "cell_type": "markdown",
      "source": [
        "Try to implement subtraction, multiplication, and division with vectors $V$ and $K$!"
      ],
      "metadata": {
        "id": "4aWz_NfiLg3m"
      }
    },
    {
      "cell_type": "code",
      "source": [
        "### Try out you code here! \n",
        "\n",
        "V = np.array([12, 28, 20])\n",
        "K = np.array([2, 4, 6])\n",
        "\n",
        "R = np.divide(V,K)\n",
        "R"
      ],
      "metadata": {
        "colab": {
          "base_uri": "https://localhost:8080/"
        },
        "id": "JCnmiaYeL8lx",
        "outputId": "5cda7601-763c-43fe-cd89-7135984b2d71"
      },
      "execution_count": null,
      "outputs": [
        {
          "output_type": "execute_result",
          "data": {
            "text/plain": [
              "array([6.        , 7.        , 3.33333333])"
            ]
          },
          "metadata": {},
          "execution_count": 66
        }
      ]
    },
    {
      "cell_type": "code",
      "source": [
        "R = V - K \n",
        "R"
      ],
      "metadata": {
        "colab": {
          "base_uri": "https://localhost:8080/"
        },
        "id": "c8T-ZCPENV3Y",
        "outputId": "9844a19e-8f30-414d-9855-74e2e97b747d"
      },
      "execution_count": null,
      "outputs": [
        {
          "output_type": "execute_result",
          "data": {
            "text/plain": [
              "array([10, 24, 14])"
            ]
          },
          "metadata": {},
          "execution_count": 67
        }
      ]
    },
    {
      "cell_type": "code",
      "source": [
        "R = np.multiply(V,K)\n",
        "R"
      ],
      "metadata": {
        "colab": {
          "base_uri": "https://localhost:8080/"
        },
        "id": "1GM7WsyANby6",
        "outputId": "adccf3a4-4411-4e3e-b2b1-04b6c2c86a7c"
      },
      "execution_count": null,
      "outputs": [
        {
          "output_type": "execute_result",
          "data": {
            "text/plain": [
              "array([ 24, 112, 120])"
            ]
          },
          "metadata": {},
          "execution_count": 68
        }
      ]
    },
    {
      "cell_type": "markdown",
      "source": [
        "# **Scaling**"
      ],
      "metadata": {
        "id": "TDBonECPOE9B"
      }
    },
    {
      "cell_type": "markdown",
      "source": [
        "* Scaling, also known as scalar multiplication, takes a scalar value and multiplies it with a vector. Let's take the example below:"
      ],
      "metadata": {
        "id": "_jwSyJDwOTr6"
      }
    },
    {
      "cell_type": "markdown",
      "source": [
        "$$S = 13 \\cdot P$$"
      ],
      "metadata": {
        "id": "ZtlwrL7hOfGn"
      }
    },
    {
      "cell_type": "markdown",
      "source": [
        "We can do this in numpy through:"
      ],
      "metadata": {
        "id": "b_DiyngLOk-Q"
      }
    },
    {
      "cell_type": "code",
      "source": [
        "#S = 13 * P\n",
        "S = np.multiply(13,P)\n",
        "S"
      ],
      "metadata": {
        "colab": {
          "base_uri": "https://localhost:8080/"
        },
        "id": "vADrU_KcOnee",
        "outputId": "03f39607-6b24-4e15-c1cb-4a80afbfc287"
      },
      "execution_count": null,
      "outputs": [
        {
          "output_type": "execute_result",
          "data": {
            "text/plain": [
              "array([ 0, 26])"
            ]
          },
          "metadata": {},
          "execution_count": 15
        }
      ]
    },
    {
      "cell_type": "markdown",
      "source": [
        "Try to implement scaling with two vectors."
      ],
      "metadata": {
        "id": "kHOmw6MrPLgV"
      }
    },
    {
      "cell_type": "markdown",
      "source": [
        "$$S = 12 \\cdot T$$"
      ],
      "metadata": {
        "id": "eLfJy680QADN"
      }
    },
    {
      "cell_type": "code",
      "source": [
        "#S = 12 * T\n",
        "S = np.multiply(12,T)\n",
        "S"
      ],
      "metadata": {
        "colab": {
          "base_uri": "https://localhost:8080/"
        },
        "id": "mEmEi3fMQGki",
        "outputId": "5d1e65c3-d96a-46b0-a253-0a0cd57935d1"
      },
      "execution_count": null,
      "outputs": [
        {
          "output_type": "execute_result",
          "data": {
            "text/plain": [
              "array([[60],\n",
              "       [60],\n",
              "       [60]])"
            ]
          },
          "metadata": {},
          "execution_count": 16
        }
      ]
    },
    {
      "cell_type": "markdown",
      "source": [
        "$$S = 3 \\cdot A\\cdot P$$"
      ],
      "metadata": {
        "id": "NATRO7r2QMuQ"
      }
    },
    {
      "cell_type": "code",
      "source": [
        "#S = 3 * A * P\n",
        "S = np.multiply(3,A,P)\n",
        "S"
      ],
      "metadata": {
        "colab": {
          "base_uri": "https://localhost:8080/"
        },
        "id": "6IftLYQuQRN1",
        "outputId": "c8a8b1ca-c316-4639-8143-fc5f4c97fef4"
      },
      "execution_count": null,
      "outputs": [
        {
          "output_type": "execute_result",
          "data": {
            "text/plain": [
              "array([-3,  6])"
            ]
          },
          "metadata": {},
          "execution_count": 71
        }
      ]
    },
    {
      "cell_type": "markdown",
      "source": [
        "$$S = A \\cdot T$$"
      ],
      "metadata": {
        "id": "iANUsY6CQhZu"
      }
    },
    {
      "cell_type": "code",
      "source": [
        "#S = A * T\n",
        "S = np.multiply(A, T)\n",
        "S"
      ],
      "metadata": {
        "colab": {
          "base_uri": "https://localhost:8080/"
        },
        "id": "7iJG2b_aQqZZ",
        "outputId": "8ba6ed07-fbaf-4d46-c4d0-3d52378c4417"
      },
      "execution_count": null,
      "outputs": [
        {
          "output_type": "execute_result",
          "data": {
            "text/plain": [
              "array([[ 10. ,   5. , -20. ,  10. ,  -7.5,  15. ],\n",
              "       [ 10. ,   5. , -20. ,  10. ,  -7.5,  15. ],\n",
              "       [ 10. ,   5. , -20. ,  10. ,  -7.5,  15. ]])"
            ]
          },
          "metadata": {},
          "execution_count": 31
        }
      ]
    },
    {
      "cell_type": "code",
      "source": [
        "S1 = np.multiply(2,A)\n",
        "S2 = np.multiply(P , Y)\n",
        "\n",
        "S1,S2\n"
      ],
      "metadata": {
        "colab": {
          "base_uri": "https://localhost:8080/"
        },
        "id": "LaRzimCbRlJk",
        "outputId": "d3b6701f-9897-45b9-accf-6b41af12b230"
      },
      "execution_count": null,
      "outputs": [
        {
          "output_type": "execute_result",
          "data": {
            "text/plain": [
              "(array([ 4.,  2., -8.,  4., -3.,  6.]), array([[ 0, -4],\n",
              "        [ 0,  0],\n",
              "        [ 0, -6]]))"
            ]
          },
          "metadata": {},
          "execution_count": 27
        }
      ]
    },
    {
      "cell_type": "code",
      "source": [
        "S = np.multiply(A,Y)\n",
        "S"
      ],
      "metadata": {
        "colab": {
          "base_uri": "https://localhost:8080/"
        },
        "id": "-vvWyBQX3M-9",
        "outputId": "b4f2ca99-6618-4152-e97a-020e493327fe"
      },
      "execution_count": null,
      "outputs": [
        {
          "output_type": "execute_result",
          "data": {
            "text/plain": [
              "array([  0, -18])"
            ]
          },
          "metadata": {},
          "execution_count": 185
        }
      ]
    },
    {
      "cell_type": "markdown",
      "source": [
        "# **MatPlotLib**"
      ],
      "metadata": {
        "id": "ef4d4j4rSLqw"
      }
    },
    {
      "cell_type": "markdown",
      "source": [
        "* Matplotlib is a Python library that allows users to build static, animated, and collaborative plots. Numpy is a prerequisite for matplotlib, which employs numpy functions for numerical data and multi-dimensional arrays."
      ],
      "metadata": {
        "id": "_bpVR8VtSRUg"
      }
    },
    {
      "cell_type": "markdown",
      "source": [
        "## ***Visualizing Data***"
      ],
      "metadata": {
        "id": "3NvKC498SVDY"
      }
    },
    {
      "cell_type": "markdown",
      "source": [
        "It may be useful to visualize these vectors in addition to solving them. For that, we'll employ MatPlotLib. Initially, we'll need to import it.\n",
        "\n"
      ],
      "metadata": {
        "id": "rTd2ANJiSaZo"
      }
    },
    {
      "cell_type": "code",
      "source": [
        "import matplotlib.pyplot as plt\n",
        "import matplotlib\n",
        "%matplotlib inline"
      ],
      "metadata": {
        "id": "u7R4UCIwTLYL"
      },
      "execution_count": null,
      "outputs": []
    },
    {
      "cell_type": "code",
      "source": [
        "A = [7, 8]\n",
        "B = [9, -4]\n",
        "plt.scatter(A[0], A[1], label='M', c='purple')\n",
        "plt.scatter(B[0], B[1], label='L', c='pink')\n",
        "plt.grid()\n",
        "plt.legend()\n",
        "plt.show()"
      ],
      "metadata": {
        "colab": {
          "base_uri": "https://localhost:8080/",
          "height": 265
        },
        "id": "rxEw_pXJTQGE",
        "outputId": "d966b016-d3b0-4f22-e549-a92aff13ed2e"
      },
      "execution_count": null,
      "outputs": [
        {
          "output_type": "display_data",
          "data": {
            "text/plain": [
              "<Figure size 432x288 with 1 Axes>"
            ],
            "image/png": "[encoded data removed]"
          },
          "metadata": {
            "needs_background": "light"
          }
        }
      ]
    },
    {
      "cell_type": "code",
      "source": [
        "A = np.array([2, -1])\n",
        "B = np.array([-1, 2])\n",
        "R = A + B\n",
        "Magnitude = np.sqrt(np.sum(R**2))\n",
        "print(Magnitude)\n",
        "plt.title(\"Resultant Vector\\nMagnitude:{}\" .format(Magnitude))\n",
        "plt.xlim(-2, 3)\n",
        "plt.ylim(-3, 2)\n",
        "plt.quiver(0, 0, A[0], A[1], angles='xy', scale_units='xy', scale=1, color='orange')\n",
        "plt.quiver(A[0], A[1], B[0], B[1], angles='xy', scale_units='xy', scale=1, color='yellow')\n",
        "P = A + B\n",
        "plt.quiver(0, 0, R[0], R[1], angles='xy', scale_units='xy', scale=1, color='blue')\n",
        "plt.grid()\n",
        "plt.show()\n",
        "print(P)\n",
        "print(Magnitude)\n",
        "Slope = P[1]/P[0]\n",
        "print(Slope)\n",
        "Angle = (np.arctan(Slope))*(180/np.pi)\n",
        "print(Angle)"
      ],
      "metadata": {
        "colab": {
          "base_uri": "https://localhost:8080/",
          "height": 383
        },
        "id": "HVaNMc_LTqEj",
        "outputId": "659f211a-233e-4efb-c286-2940df38b618"
      },
      "execution_count": null,
      "outputs": [
        {
          "output_type": "stream",
          "name": "stdout",
          "text": [
            "1.4142135623730951\n"
          ]
        },
        {
          "output_type": "display_data",
          "data": {
            "text/plain": [
              "<Figure size 432x288 with 1 Axes>"
            ],
            "image/png": "[encoded data removed]"
          },
          "metadata": {
            "needs_background": "light"
          }
        },
        {
          "output_type": "stream",
          "name": "stdout",
          "text": [
            "[1 1]\n",
            "1.4142135623730951\n",
            "1.0\n",
            "45.0\n"
          ]
        }
      ]
    },
    {
      "cell_type": "code",
      "source": [
        "n = P.shape[0]\n",
        "plt.xlim(-7, 7)\n",
        "plt.ylim(-7, 7)\n",
        "plt.quiver(0,0, A[0], A[1], angles='xy', scale_units='xy',scale=1, color='pink')\n",
        "plt.quiver(A[0],A[1], B[0], B[1], angles='xy', scale_units='xy',scale=1, color='gray')\n",
        "plt.quiver(0,0, R[0], R[1], angles='xy', scale_units='xy',scale=1, color='brown')\n",
        "plt.show()"
      ],
      "metadata": {
        "colab": {
          "base_uri": "https://localhost:8080/",
          "height": 265
        },
        "id": "Er59XEh6W4_p",
        "outputId": "58b09dc3-0a91-4b73-9b28-2386cb0014f4"
      },
      "execution_count": null,
      "outputs": [
        {
          "output_type": "display_data",
          "data": {
            "text/plain": [
              "<Figure size 432x288 with 1 Axes>"
            ],
            "image/png": "[encoded data removed]"
          },
          "metadata": {
            "needs_background": "light"
          }
        }
      ]
    },
    {
      "cell_type": "markdown",
      "source": [
        "Try plotting Three Vectors and show the Resultant Vector as a result.\n",
        "Use Head to Tail Method."
      ],
      "metadata": {
        "id": "oto1sx62XzEt"
      }
    },
    {
      "cell_type": "code",
      "source": [
        "K = np.array([13, 1])\n",
        "D = np.array([10, 5])\n",
        "P = np.array ([7, 13])\n",
        "B = K + D\n",
        "R = K + D + P\n",
        "Magnitude = np.sqrt(np.sum(R**2))\n",
        "plt.title(\"Resultant Vector\\nMagnitude:{}\" .format(Magnitude))\n",
        "plt.xlim(-35, 35)\n",
        "plt.ylim(-35, 35)\n",
        "plt.quiver(0, 0, K[0], K[1], angles='xy', scale_units='xy', scale=1, color='brown')\n",
        "plt.quiver(K[0], K[1], D[0], D[1], angles='xy', scale_units='xy', scale=1, color='violet')\n",
        "plt.quiver( B[0], B[1], P[0], P[1], angles='xy', scale_units='xy', scale=1, color='grey')\n",
        "\n",
        "plt.quiver(0, 0, R[0], R[1], angles='xy', scale_units='xy', scale=1, color='black')\n",
        "plt.grid()\n",
        "plt.show()\n",
        "print(R)\n",
        "\n",
        "print(Magnitude)\n",
        "Slope = R[1]/R[0]\n",
        "print(Slope)\n",
        "Angle = (np.arctan(Slope))*(180/np.pi)\n",
        "print(Angle)"
      ],
      "metadata": {
        "id": "CNW-NoWeZDyF",
        "outputId": "423222fd-b303-4de2-a342-1848a66d055e",
        "colab": {
          "base_uri": "https://localhost:8080/",
          "height": 365
        }
      },
      "execution_count": null,
      "outputs": [
        {
          "output_type": "display_data",
          "data": {
            "text/plain": [
              "<Figure size 432x288 with 1 Axes>"
            ],
            "image/png": "[encoded data removed]"
          },
          "metadata": {
            "needs_background": "light"
          }
        },
        {
          "output_type": "stream",
          "name": "stdout",
          "text": [
            "[30 19]\n",
            "35.510561809129406\n",
            "0.6333333333333333\n",
            "32.34744349944203\n"
          ]
        }
      ]
    }
  ]
}
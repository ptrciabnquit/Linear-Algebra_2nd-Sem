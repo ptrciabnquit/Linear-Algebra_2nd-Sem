{
  "nbformat": 4,
  "nbformat_minor": 0,
  "metadata": {
    "colab": {
      "name": "Assignment 10_Linear Combination and Vector Spaces.ipynb",
      "provenance": [],
      "authorship_tag": "ABX9TyOOpJTgmSumdDcSQy8QCwg4",
      "include_colab_link": true
    },
    "kernelspec": {
      "name": "python3",
      "display_name": "Python 3"
    },
    "language_info": {
      "name": "python"
    }
  },
  "cells": [
    {
      "cell_type": "markdown",
      "metadata": {
        "id": "view-in-github",
        "colab_type": "text"
      },
      "source": [
        "<a href=\"https://colab.research.google.com/github/ptrciabnquit/Linear-Algebra_2nd-Sem/blob/main/Assignment_10_Linear_Combination_and_Vector_Spaces.ipynb\" target=\"_parent\"><img src=\"https://colab.research.google.com/assets/colab-badge.svg\" alt=\"Open In Colab\"/></a>"
      ]
    },
    {
      "cell_type": "markdown",
      "source": [
        "# Linear Algebra for CHE\n",
        "\n",
        "## **Linear Combination and Vector Spaces**"
      ],
      "metadata": {
        "id": "mbCy3YwYrIMk"
      }
    },
    {
      "cell_type": "markdown",
      "source": [
        "### Objectives\n",
        "At the end of this activity you will be able to:\n",
        "1. Be familiar with representing linear combinations in the 2-dimensional plane.\n",
        "2. Visualize spans using vector fields in Python.\n",
        "3. Perform vector fields operations using scientific programming."
      ],
      "metadata": {
        "id": "wwcN5jHerVmL"
      }
    },
    {
      "cell_type": "markdown",
      "source": [
        "## Discussion"
      ],
      "metadata": {
        "id": "Z7mg1q2jrYEE"
      }
    },
    {
      "cell_type": "code",
      "source": [
        "import numpy as np\n",
        "import matplotlib.pyplot as plt\n",
        "%matplotlib inline"
      ],
      "metadata": {
        "id": "0Lh25XtIraGU"
      },
      "execution_count": null,
      "outputs": []
    },
    {
      "cell_type": "markdown",
      "source": [
        "## **Linear Combination**"
      ],
      "metadata": {
        "id": "8tUAzZf7reb2"
      }
    },
    {
      "cell_type": "markdown",
      "source": [
        "Two or more vectors with various directions can be combined into a linear combination by multiplying by a scalar value. Linear addition and scaling are both recognized as elements of what is known as a \"linear combination,\" which is characterized as the addition of a vector's bases."
      ],
      "metadata": {
        "id": "mxjXHbgIuSwV"
      }
    },
    {
      "cell_type": "markdown",
      "source": [
        "We will try to visualize the vectors and their linear combinations by plotting a sample of real number values for the scalars for the vectors. Let's first try the vectors below:"
      ],
      "metadata": {
        "id": "70yTaWa-uUHV"
      }
    },
    {
      "cell_type": "markdown",
      "source": [
        "$$ P = 8\\hat{x} + 3\\hat{y} \\\\\n",
        "K = 2\\hat{i} + 4\\hat{j}$$"
      ],
      "metadata": {
        "id": "qKxHqu8OZQpz"
      }
    },
    {
      "cell_type": "markdown",
      "source": [
        "$$P = \\begin{bmatrix} 8\\\\3 \\\\\\end{bmatrix} , K = \\begin{bmatrix} 2\\\\4 \\\\\\end{bmatrix} $$"
      ],
      "metadata": {
        "id": "11tTk5YHuYU0"
      }
    },
    {
      "cell_type": "code",
      "source": [
        "vectP =  np.array([8,3])\n",
        "vectK =  np.array([2,4])"
      ],
      "metadata": {
        "id": "oHtkAkr2ugoG"
      },
      "execution_count": 5,
      "outputs": []
    },
    {
      "cell_type": "markdown",
      "source": [
        "#### ***Span of single vectors***"
      ],
      "metadata": {
        "id": "hJkXTik9urZH"
      }
    },
    {
      "cell_type": "markdown",
      "source": [
        "As discussed in the lecture, the span of individual vectors can be represented by a line span. Let's take vector $P$ as an example."
      ],
      "metadata": {
        "id": "gS4bkHO4uxBx"
      }
    },
    {
      "cell_type": "markdown",
      "source": [
        "$$P = t\\cdot \\begin{bmatrix} 8\\\\3 \\\\\\end{bmatrix} $$"
      ],
      "metadata": {
        "id": "bXU1V7lSu-8s"
      }
    },
    {
      "cell_type": "code",
      "source": [
        "t = np.arange(-8,8,0.255)\n",
        "\n",
        "plt.scatter(t*vectP[0],t*vectP[1], color='brown')\n",
        "plt.xlim(-8,8)\n",
        "plt.ylim(-8,8)\n",
        "plt.axhline(y=0, color='purple')\n",
        "plt.axvline(x=0, color='yellow')\n",
        "plt.grid()\n",
        "plt.show()"
      ],
      "metadata": {
        "colab": {
          "base_uri": "https://localhost:8080/",
          "height": 269
        },
        "id": "BFo3enmwvHkW",
        "outputId": "0ec5338c-cc67-4739-9a8a-87224beac953"
      },
      "execution_count": 12,
      "outputs": [
        {
          "output_type": "display_data",
          "data": {
            "text/plain": [
              "<Figure size 432x288 with 1 Axes>"
            ],
            "image/png": "[encoded data removed]"
          },
          "metadata": {
            "needs_background": "light"
          }
        }
      ]
    },
    {
      "cell_type": "markdown",
      "source": [
        "$$K = c\\cdot \\begin{bmatrix} 2\\\\4 \\\\\\end{bmatrix} $$"
      ],
      "metadata": {
        "id": "ZtPLoJYVwHqM"
      }
    },
    {
      "cell_type": "code",
      "source": [
        "c = np.arange(-18,18,0.256)\n",
        "\n",
        "plt.scatter(c*vectK[0],c*vectK[1], color='green')\n",
        "\n",
        "plt.xlim(-18,18)\n",
        "plt.ylim(-18,18)\n",
        "plt.axhline(y=0, color='pink')\n",
        "plt.axvline(x=0, color='orange')\n",
        "plt.grid()\n",
        "plt.show()"
      ],
      "metadata": {
        "colab": {
          "base_uri": "https://localhost:8080/",
          "height": 265
        },
        "id": "geuT8zDawQ3c",
        "outputId": "d5cce8e3-1e0b-400f-e578-a7bcd4f30601"
      },
      "execution_count": null,
      "outputs": [
        {
          "output_type": "display_data",
          "data": {
            "text/plain": [
              "<Figure size 432x288 with 1 Axes>"
            ],
            "image/png": "[encoded data removed]"
          },
          "metadata": {
            "needs_background": "light"
          }
        }
      ]
    },
    {
      "cell_type": "markdown",
      "source": [
        "### ***Span of a linear combination of vectors***"
      ],
      "metadata": {
        "id": "ee7J8QV2xBDV"
      }
    }
  ]
}
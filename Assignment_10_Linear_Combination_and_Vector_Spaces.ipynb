{
  "nbformat": 4,
  "nbformat_minor": 0,
  "metadata": {
    "colab": {
      "name": "Assignment 10_Linear Combination and Vector Spaces.ipynb",
      "provenance": [],
      "authorship_tag": "ABX9TyNISNaJv/TFBTkdci/9AfNc",
      "include_colab_link": true
    },
    "kernelspec": {
      "name": "python3",
      "display_name": "Python 3"
    },
    "language_info": {
      "name": "python"
    }
  },
  "cells": [
    {
      "cell_type": "markdown",
      "metadata": {
        "id": "view-in-github",
        "colab_type": "text"
      },
      "source": [
        "<a href=\"https://colab.research.google.com/github/ptrciabnquit/Linear-Algebra_2nd-Sem/blob/main/Assignment_10_Linear_Combination_and_Vector_Spaces.ipynb\" target=\"_parent\"><img src=\"https://colab.research.google.com/assets/colab-badge.svg\" alt=\"Open In Colab\"/></a>"
      ]
    },
    {
      "cell_type": "markdown",
      "source": [
        "# Linear Algebra for CHE\n",
        "\n",
        "## **Linear Combination and Vector Spaces**"
      ],
      "metadata": {
        "id": "mbCy3YwYrIMk"
      }
    },
    {
      "cell_type": "markdown",
      "source": [
        "### Objectives\n",
        "At the end of this activity you will be able to:\n",
        "1. Be familiar with representing linear combinations in the 2-dimensional plane.\n",
        "2. Visualize spans using vector fields in Python.\n",
        "3. Perform vector fields operations using scientific programming."
      ],
      "metadata": {
        "id": "wwcN5jHerVmL"
      }
    },
    {
      "cell_type": "markdown",
      "source": [
        "## Discussion"
      ],
      "metadata": {
        "id": "Z7mg1q2jrYEE"
      }
    },
    {
      "cell_type": "code",
      "source": [
        "import numpy as np\n",
        "import matplotlib.pyplot as plt\n",
        "%matplotlib inline"
      ],
      "metadata": {
        "id": "0Lh25XtIraGU"
      },
      "execution_count": 2,
      "outputs": []
    },
    {
      "cell_type": "markdown",
      "source": [
        "## **Linear Combination**"
      ],
      "metadata": {
        "id": "8tUAzZf7reb2"
      }
    },
    {
      "cell_type": "markdown",
      "source": [
        "Two or more vectors with various directions can be combined into a linear combination by multiplying by a scalar value. Linear addition and scaling are both recognized as elements of what is known as a \"linear combination,\" which is characterized as the addition of a vector's bases."
      ],
      "metadata": {
        "id": "mxjXHbgIuSwV"
      }
    },
    {
      "cell_type": "markdown",
      "source": [
        "We will try to visualize the vectors and their linear combinations by plotting a sample of real number values for the scalars for the vectors. Let's first try the vectors below:"
      ],
      "metadata": {
        "id": "70yTaWa-uUHV"
      }
    },
    {
      "cell_type": "markdown",
      "source": [
        "$$ P = 8\\hat{x} + 3\\hat{y} \\\\\n",
        "K = 2\\hat{i} + 4\\hat{j}$$"
      ],
      "metadata": {
        "id": "qKxHqu8OZQpz"
      }
    },
    {
      "cell_type": "markdown",
      "source": [
        "$$P = \\begin{bmatrix} 8\\\\3 \\\\\\end{bmatrix} , K = \\begin{bmatrix} 2\\\\4 \\\\\\end{bmatrix} $$"
      ],
      "metadata": {
        "id": "11tTk5YHuYU0"
      }
    },
    {
      "cell_type": "code",
      "source": [
        "vectP =  np.array([8,3])\n",
        "vectK =  np.array([2,4])"
      ],
      "metadata": {
        "id": "oHtkAkr2ugoG"
      },
      "execution_count": 3,
      "outputs": []
    },
    {
      "cell_type": "markdown",
      "source": [
        "#### ***Span of single vectors***"
      ],
      "metadata": {
        "id": "hJkXTik9urZH"
      }
    },
    {
      "cell_type": "markdown",
      "source": [
        "As discussed in the lecture, the span of individual vectors can be represented by a line span. Let's take vector $P$ as an example."
      ],
      "metadata": {
        "id": "gS4bkHO4uxBx"
      }
    },
    {
      "cell_type": "markdown",
      "source": [
        "$$P = t\\cdot \\begin{bmatrix} 8\\\\3 \\\\\\end{bmatrix} $$"
      ],
      "metadata": {
        "id": "bXU1V7lSu-8s"
      }
    },
    {
      "cell_type": "code",
      "source": [
        "t = np.arange(-8,8,0.255)\n",
        "\n",
        "plt.scatter(t*vectP[0],t*vectP[1], color='brown')\n",
        "plt.xlim(-8,8)\n",
        "plt.ylim(-8,8)\n",
        "plt.axhline(y=0, color='purple')\n",
        "plt.axvline(x=0, color='yellow')\n",
        "plt.grid()\n",
        "plt.show()"
      ],
      "metadata": {
        "colab": {
          "base_uri": "https://localhost:8080/",
          "height": 269
        },
        "id": "BFo3enmwvHkW",
        "outputId": "6afb7c1b-0383-4d5e-9d0f-b2e15872c212"
      },
      "execution_count": 4,
      "outputs": [
        {
          "output_type": "display_data",
          "data": {
            "text/plain": [
              "<Figure size 432x288 with 1 Axes>"
            ],
            "image/png": "[encoded data removed]"
          },
          "metadata": {
            "needs_background": "light"
          }
        }
      ]
    },
    {
      "cell_type": "markdown",
      "source": [
        "$$K = c\\cdot \\begin{bmatrix} 2\\\\4 \\\\\\end{bmatrix} $$"
      ],
      "metadata": {
        "id": "ZtPLoJYVwHqM"
      }
    },
    {
      "cell_type": "code",
      "source": [
        "c = np.arange(-18,18,0.256)\n",
        "\n",
        "plt.plot(c*vectK[0],c*vectK[1], color='magenta', linestyle='dashed')\n",
        "\n",
        "plt.xlim(-18,18)\n",
        "plt.ylim(-18,18)\n",
        "plt.axhline(y=0, color='pink')\n",
        "plt.axvline(x=0, color='orange')\n",
        "plt.grid()\n",
        "plt.show()"
      ],
      "metadata": {
        "colab": {
          "base_uri": "https://localhost:8080/",
          "height": 265
        },
        "id": "geuT8zDawQ3c",
        "outputId": "8c18e598-f149-4f4e-e53a-fbb809e40fa1"
      },
      "execution_count": 5,
      "outputs": [
        {
          "output_type": "display_data",
          "data": {
            "text/plain": [
              "<Figure size 432x288 with 1 Axes>"
            ],
            "image/png": "[encoded data removed]"
          },
          "metadata": {
            "needs_background": "light"
          }
        }
      ]
    },
    {
      "cell_type": "markdown",
      "source": [
        "### ***Span of a linear combination of vectors***"
      ],
      "metadata": {
        "id": "ee7J8QV2xBDV"
      }
    },
    {
      "cell_type": "markdown",
      "source": [
        "# ***I N S E R T***"
      ],
      "metadata": {
        "id": "pNfeoajcnhCO"
      }
    },
    {
      "cell_type": "markdown",
      "source": [
        "# **Activity**"
      ],
      "metadata": {
        "id": "8x-4v2vrnfoa"
      }
    },
    {
      "cell_type": "markdown",
      "source": [
        "***Instruction:***\n",
        "Try different linear combinations using different scalar values. In your methodology discuss the different functions that you have used, the  linear equation and vector form of the linear combination, and the flowchart for declaring and displaying linear combinations. Please make sure that your flowchart has only few words and not putting the entire code as it is bad practice. In your results, display and discuss the linear combination visualization you made. You should use the cells below for displaying the equation markdows using LaTeX and your code."
      ],
      "metadata": {
        "id": "2da8AQ1nnl3D"
      }
    },
    {
      "cell_type": "markdown",
      "source": [
        "## ***Span of Single Vector***"
      ],
      "metadata": {
        "id": "12prXiBHn7Ss"
      }
    },
    {
      "cell_type": "markdown",
      "source": [
        "$$R = \\begin{bmatrix} -23.13\\\\5.29 \\\\\\end{bmatrix}$$\n"
      ],
      "metadata": {
        "id": "ACp745KjnxzX"
      }
    },
    {
      "cell_type": "markdown",
      "source": [
        "$$R = y\\cdot \\begin{bmatrix} -23.13\\\\ 5.29 \\\\\\end{bmatrix} $$"
      ],
      "metadata": {
        "id": "sf4mhqxgn3XI"
      }
    },
    {
      "cell_type": "code",
      "source": [
        "vectR =  np.array([-23.13, 5.29])"
      ],
      "metadata": {
        "id": "OwfBss6nt7hu"
      },
      "execution_count": 66,
      "outputs": []
    },
    {
      "cell_type": "code",
      "source": [
        "y = np.arange(-13,16,3.52)\n",
        "\n",
        "plt.plot(c*vectR[0],c*vectR[1], color='red', linestyle='dashdot')\n",
        "plt.title(\"Span of Single Vector R\", color='purple')\n",
        "        \n",
        "plt.xlim(-13,13)\n",
        "plt.ylim(-13,13)\n",
        "\n",
        "plt.xlabel('x-axis') \n",
        "plt.ylabel('y-axis') \n",
        "plt.axhline(y=0, color='green')\n",
        "plt.axvline(x=0, color='blue')\n",
        "\n",
        "plt.grid(color='gray')\n",
        "plt.show()\n",
        "\n"
      ],
      "metadata": {
        "colab": {
          "base_uri": "https://localhost:8080/",
          "height": 295
        },
        "id": "kDRFZEitoA4w",
        "outputId": "1d7dc9fe-56a8-4d24-bd87-333402c2c0da"
      },
      "execution_count": 83,
      "outputs": [
        {
          "output_type": "display_data",
          "data": {
            "text/plain": [
              "<Figure size 432x288 with 1 Axes>"
            ],
            "image/png": "[encoded data removed]"
          },
          "metadata": {
            "needs_background": "light"
          }
        }
      ]
    },
    {
      "cell_type": "markdown",
      "source": [
        "## ***Span of a linear combination of vectors***"
      ],
      "metadata": {
        "id": "r_F3eCk2oBK5"
      }
    },
    {
      "cell_type": "markdown",
      "source": [
        "$$\n",
        "Space \\cdot for \\cdot the \\cdot general \\cdot linear \\cdot equation \\cdot form\n",
        "$$"
      ],
      "metadata": {
        "id": "bM-XcGMSoKCp"
      }
    },
    {
      "cell_type": "markdown",
      "source": [
        "$$Space \\cdot for \\cdot the \\cdot vector \\cdot form$$"
      ],
      "metadata": {
        "id": "ETBice6boMV9"
      }
    },
    {
      "cell_type": "code",
      "source": [
        ""
      ],
      "metadata": {
        "id": "at-HHWn_oJQY"
      },
      "execution_count": null,
      "outputs": []
    }
  ]
}
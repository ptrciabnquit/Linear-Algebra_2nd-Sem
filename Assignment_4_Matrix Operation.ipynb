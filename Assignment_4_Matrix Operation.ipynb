{
  "nbformat": 4,
  "nbformat_minor": 0,
  "metadata": {
    "colab": {
      "name": "Assignment 4",
      "provenance": [],
      "authorship_tag": "ABX9TyNlaCo78+yONyeE/0i8m+gP",
      "include_colab_link": true
    },
    "kernelspec": {
      "name": "python3",
      "display_name": "Python 3"
    },
    "language_info": {
      "name": "python"
    }
  },
  "cells": [
    {
      "cell_type": "markdown",
      "metadata": {
        "id": "view-in-github",
        "colab_type": "text"
      },
      "source": [
        "<a href=\"https://colab.research.google.com/github/ptrciabnquit/Linear-Algebra_2nd-Sem/blob/main/Assignment_4_Matrix%20Operation.ipynb\" target=\"_parent\"><img src=\"https://colab.research.google.com/assets/colab-badge.svg\" alt=\"Open In Colab\"/></a>"
      ]
    },
    {
      "cell_type": "markdown",
      "source": [
        "# Linear Algebra for ChE\n",
        "\n",
        "Laboratory 4: Matrix Operations"
      ],
      "metadata": {
        "id": "36bYIq148VBs"
      }
    },
    {
      "cell_type": "markdown",
      "source": [
        "## Discussion"
      ],
      "metadata": {
        "id": "gddZR4NH8nia"
      }
    },
    {
      "cell_type": "code",
      "source": [
        "import numpy as np\n",
        "import matplotlib.pyplot as plt\n",
        "%matplotlib inline\n"
      ],
      "metadata": {
        "id": "AsQ1JMwL8pLL"
      },
      "execution_count": null,
      "outputs": []
    },
    {
      "cell_type": "markdown",
      "source": [
        "### Transposition\n",
        "\n"
      ],
      "metadata": {
        "id": "f4KkbXHF84nQ"
      }
    },
    {
      "cell_type": "code",
      "source": [
        "P = np.array([\n",
        "    [1, 2, 3],\n",
        "    [5, 2, 3],\n",
        "    [0, 3, 1]\n",
        "])\n",
        "P\n"
      ],
      "metadata": {
        "colab": {
          "base_uri": "https://localhost:8080/"
        },
        "id": "YKnJkBmZ9ojL",
        "outputId": "22ebbef8-3dfe-4f9d-990f-87578548fa7d"
      },
      "execution_count": null,
      "outputs": [
        {
          "output_type": "execute_result",
          "data": {
            "text/plain": [
              "array([[1, 2, 3],\n",
              "       [5, 2, 3],\n",
              "       [0, 3, 1]])"
            ]
          },
          "metadata": {},
          "execution_count": 14
        }
      ]
    },
    {
      "cell_type": "code",
      "source": [
        "PT1 = np.transpose(P)\n",
        "PT1"
      ],
      "metadata": {
        "colab": {
          "base_uri": "https://localhost:8080/"
        },
        "id": "jTjTo3FF-Enh",
        "outputId": "1f013fbc-4781-482e-979b-eedbc4d3b969"
      },
      "execution_count": null,
      "outputs": [
        {
          "output_type": "execute_result",
          "data": {
            "text/plain": [
              "array([[1, 5, 0],\n",
              "       [2, 2, 3],\n",
              "       [3, 3, 1]])"
            ]
          },
          "metadata": {},
          "execution_count": 15
        }
      ]
    },
    {
      "cell_type": "code",
      "source": [
        "PT2 = P.T\n",
        "PT2"
      ],
      "metadata": {
        "colab": {
          "base_uri": "https://localhost:8080/"
        },
        "id": "-Vhp8rAR-ryh",
        "outputId": "a235a87e-f253-49d6-f452-886e790f9044"
      },
      "execution_count": null,
      "outputs": [
        {
          "output_type": "execute_result",
          "data": {
            "text/plain": [
              "array([[1, 5, 0],\n",
              "       [2, 2, 3],\n",
              "       [3, 3, 1]])"
            ]
          },
          "metadata": {},
          "execution_count": 16
        }
      ]
    },
    {
      "cell_type": "code",
      "source": [
        "np.array_equiv(PT1, PT2)"
      ],
      "metadata": {
        "colab": {
          "base_uri": "https://localhost:8080/"
        },
        "id": "Yeek5xdM-xjq",
        "outputId": "b693f4c6-5fdf-4307-fcb2-7ef0946b8975"
      },
      "execution_count": null,
      "outputs": [
        {
          "output_type": "execute_result",
          "data": {
            "text/plain": [
              "True"
            ]
          },
          "metadata": {},
          "execution_count": 18
        }
      ]
    },
    {
      "cell_type": "code",
      "source": [
        "B = np.array([\n",
        "    [1, 5, -1, -2],\n",
        "    [2, 1, 3, 8]\n",
        "])\n",
        "B.shape"
      ],
      "metadata": {
        "colab": {
          "base_uri": "https://localhost:8080/"
        },
        "id": "tcMllwvO_Bki",
        "outputId": "15dee536-4400-4adc-eb65-6f75f55f914a"
      },
      "execution_count": null,
      "outputs": [
        {
          "output_type": "execute_result",
          "data": {
            "text/plain": [
              "(2, 4)"
            ]
          },
          "metadata": {},
          "execution_count": 22
        }
      ]
    },
    {
      "cell_type": "code",
      "source": [
        "np.transpose(B).shape"
      ],
      "metadata": {
        "colab": {
          "base_uri": "https://localhost:8080/"
        },
        "id": "BZs8dk2d_3Gi",
        "outputId": "e0b47977-4898-4f70-e935-2f7df7186bae"
      },
      "execution_count": null,
      "outputs": [
        {
          "output_type": "execute_result",
          "data": {
            "text/plain": [
              "(4, 2)"
            ]
          },
          "metadata": {},
          "execution_count": 23
        }
      ]
    },
    {
      "cell_type": "code",
      "source": [
        "B.T.shape"
      ],
      "metadata": {
        "colab": {
          "base_uri": "https://localhost:8080/"
        },
        "id": "7aB-zZyf_7gH",
        "outputId": "adc046a8-00fe-4a28-b541-bc5fe6631af3"
      },
      "execution_count": null,
      "outputs": [
        {
          "output_type": "execute_result",
          "data": {
            "text/plain": [
              "(4, 2)"
            ]
          },
          "metadata": {},
          "execution_count": 24
        }
      ]
    },
    {
      "cell_type": "markdown",
      "source": [
        "### Dot Product / Inner Product"
      ],
      "metadata": {
        "id": "7p1MvpyJAYP5"
      }
    },
    {
      "cell_type": "code",
      "source": [
        "Y = np.array([\n",
        "    [2,2],\n",
        "    [0,2]\n",
        "])\n",
        "L = np.array([\n",
        "    [3,2,3],\n",
        "    [1,2,2]\n",
        "])"
      ],
      "metadata": {
        "id": "Q4fWP32EAnv8"
      },
      "execution_count": null,
      "outputs": []
    },
    {
      "cell_type": "code",
      "source": [
        "np.dot(Y,L)"
      ],
      "metadata": {
        "colab": {
          "base_uri": "https://localhost:8080/"
        },
        "id": "fRM_A4mcAz9p",
        "outputId": "edec1610-e5ee-444a-dbd7-af91071583bf"
      },
      "execution_count": null,
      "outputs": [
        {
          "output_type": "execute_result",
          "data": {
            "text/plain": [
              "array([[ 8,  8, 10],\n",
              "       [ 2,  4,  4]])"
            ]
          },
          "metadata": {},
          "execution_count": 56
        }
      ]
    },
    {
      "cell_type": "code",
      "source": [
        "np.array_equiv(Y,L)"
      ],
      "metadata": {
        "colab": {
          "base_uri": "https://localhost:8080/"
        },
        "id": "D5HvLet5BBXg",
        "outputId": "17c98e16-1cce-4900-b11b-4a2ffed18c2d"
      },
      "execution_count": null,
      "outputs": [
        {
          "output_type": "execute_result",
          "data": {
            "text/plain": [
              "False"
            ]
          },
          "metadata": {},
          "execution_count": 57
        }
      ]
    },
    {
      "cell_type": "code",
      "source": [
        "Y.dot(Y)"
      ],
      "metadata": {
        "colab": {
          "base_uri": "https://localhost:8080/"
        },
        "id": "B75q93XzCRpv",
        "outputId": "12014fc4-7de5-40c4-9bb2-54f9fd4d858c"
      },
      "execution_count": null,
      "outputs": [
        {
          "output_type": "execute_result",
          "data": {
            "text/plain": [
              "array([[4, 8],\n",
              "       [0, 4]])"
            ]
          },
          "metadata": {},
          "execution_count": 59
        }
      ]
    },
    {
      "cell_type": "code",
      "source": [
        "Y @ L"
      ],
      "metadata": {
        "colab": {
          "base_uri": "https://localhost:8080/"
        },
        "id": "EjfnZPaJCXtv",
        "outputId": "fb34dc94-cdc9-4f2e-805a-da0191afb243"
      },
      "execution_count": null,
      "outputs": [
        {
          "output_type": "execute_result",
          "data": {
            "text/plain": [
              "array([[ 8,  8, 10],\n",
              "       [ 2,  4,  4]])"
            ]
          },
          "metadata": {},
          "execution_count": 60
        }
      ]
    },
    {
      "cell_type": "code",
      "source": [
        "np.matmul(Y,L)"
      ],
      "metadata": {
        "colab": {
          "base_uri": "https://localhost:8080/"
        },
        "id": "ccfz-cHkCe8E",
        "outputId": "157610f4-c77d-414a-ad03-08ed8bf40477"
      },
      "execution_count": null,
      "outputs": [
        {
          "output_type": "execute_result",
          "data": {
            "text/plain": [
              "array([[ 8,  8, 10],\n",
              "       [ 2,  4,  4]])"
            ]
          },
          "metadata": {},
          "execution_count": 61
        }
      ]
    },
    {
      "cell_type": "markdown",
      "source": [
        "In matrix dot products there are additional rules compared with vector dot products. Since vector dot products were just in one dimension there are less restrictions. Since now we are dealing with Rank 2 vectors we need to consider some rules:\n",
        "\n",
        "### Rule 1: The inner dimensions of the two matrices in question must be the same. \n",
        "\n",
        "So given a matrix $A$ with a shape of $(a,b)$ where $a$ and $b$ are any integers. If we want to do a dot product between $A$ and another matrix $B$, then matrix $B$ should have a shape of $(b,c)$ where $b$ and $c$ are any integers. So for given the following matrices:\n",
        "\n",
        "$$C = \\begin{bmatrix}0&1&2&4\\\\2&5&2&2\\\\0&1&5&6\\end{bmatrix}, \n",
        "D = \\begin{bmatrix}1&1&0\\\\3&3&0\\\\2&5&8\\end{bmatrix}, \n",
        "O = \\begin{bmatrix}2&0&4&5\\\\1&5&2&5\\end{bmatrix}$$\n",
        "\n",
        "So in this case $A$ has a shape of $(3,4)$, $B$ has a shape of $(3,4)$ and $C$ has a shape of $(2,4)$. So the only matrix pairs that is eligible to perform dot product is matrices $A \\cdot C$, or $B \\cdot C$.  "
      ],
      "metadata": {
        "id": "Qqwyy3R6DZ9Z"
      }
    },
    {
      "cell_type": "code",
      "source": [
        "C = np.array([\n",
        "    [0, 1, 2, 4],\n",
        "    [2, 5, 2, 2],\n",
        "    [0, 1, 5, 6]\n",
        "])\n",
        "D = np.array([\n",
        "    [1, 1, 0],\n",
        "    [3, 3, 0],\n",
        "    [2, 5, 8]\n",
        "])\n",
        "O = np.array([\n",
        "    [2, 0],\n",
        "    [1, 5]\n",
        "])\n",
        "print(C.shape)\n",
        "print(D.shape)\n",
        "print(O.shape)"
      ],
      "metadata": {
        "colab": {
          "base_uri": "https://localhost:8080/"
        },
        "id": "0oi6e853DgkA",
        "outputId": "d27295b0-9747-4c65-e2e5-04654ad617ca"
      },
      "execution_count": null,
      "outputs": [
        {
          "output_type": "stream",
          "name": "stdout",
          "text": [
            "(3, 4)\n",
            "(3, 3)\n",
            "(2, 2)\n"
          ]
        }
      ]
    },
    {
      "cell_type": "code",
      "source": [
        "D @ C"
      ],
      "metadata": {
        "colab": {
          "base_uri": "https://localhost:8080/"
        },
        "id": "upKMFvqMFNYK",
        "outputId": "04b5c675-939c-4825-f32f-3447d7ead857"
      },
      "execution_count": null,
      "outputs": [
        {
          "output_type": "execute_result",
          "data": {
            "text/plain": [
              "array([[ 2,  6,  4,  6],\n",
              "       [ 6, 18, 12, 18],\n",
              "       [10, 35, 54, 66]])"
            ]
          },
          "metadata": {},
          "execution_count": 85
        }
      ]
    },
    {
      "cell_type": "code",
      "source": [
        "D @ C"
      ],
      "metadata": {
        "colab": {
          "base_uri": "https://localhost:8080/"
        },
        "id": "TCiz0orzGaSY",
        "outputId": "3ea97976-766c-488b-a4a8-b293b33b4dd8"
      },
      "execution_count": null,
      "outputs": [
        {
          "output_type": "execute_result",
          "data": {
            "text/plain": [
              "array([[ 2,  6,  4,  6],\n",
              "       [ 6, 18, 12, 18],\n",
              "       [10, 35, 54, 66]])"
            ]
          },
          "metadata": {},
          "execution_count": 87
        }
      ]
    },
    {
      "cell_type": "markdown",
      "source": [
        "### Rule 2: Dot Product has special properties\n",
        "\n",
        "Dot products are prevalent in matrix algebra, this implies that it has several unique properties and it should be considered when formulation solutions:\n",
        " 1. $A \\cdot B \\neq B \\cdot A$\n",
        " 2. $A \\cdot (B \\cdot C) = (A \\cdot B) \\cdot C$\n",
        " 3. $A\\cdot(B+C) = A\\cdot B + A\\cdot C$\n",
        " 4. $(B+C)\\cdot A = B\\cdot A + C\\cdot A$\n",
        " 5. $A\\cdot I = A$\n",
        " 6. $A\\cdot \\emptyset = \\emptyset$\n"
      ],
      "metadata": {
        "id": "PVVQRL72HY1K"
      }
    },
    {
      "cell_type": "code",
      "source": [
        "B = np.array([\n",
        "    [3,2,1],\n",
        "    [3,2,1],\n",
        "    [2,0,1]\n",
        "])\n",
        "T = np.array([\n",
        "    [2,1,8],\n",
        "    [2,1,0],\n",
        "    [1,4,7]\n",
        "])\n",
        "S = np.array([\n",
        "    [1,1,3],\n",
        "    [0,0,2],\n",
        "    [1,2,3]\n",
        "])"
      ],
      "metadata": {
        "id": "3S-V6Cj-H5CM"
      },
      "execution_count": null,
      "outputs": []
    },
    {
      "cell_type": "code",
      "source": [
        "B.dot(np.zeros(B.shape))"
      ],
      "metadata": {
        "colab": {
          "base_uri": "https://localhost:8080/"
        },
        "id": "JtP_AmgaINUW",
        "outputId": "3bc530c3-dac8-4465-875d-b285d032ec53"
      },
      "execution_count": null,
      "outputs": [
        {
          "output_type": "execute_result",
          "data": {
            "text/plain": [
              "array([[0., 0., 0.],\n",
              "       [0., 0., 0.],\n",
              "       [0., 0., 0.]])"
            ]
          },
          "metadata": {},
          "execution_count": 110
        }
      ]
    },
    {
      "cell_type": "code",
      "source": [
        "z_mat = np.zeros(S.shape)\n",
        "z_mat"
      ],
      "metadata": {
        "colab": {
          "base_uri": "https://localhost:8080/"
        },
        "id": "5RCDV1t2JDTa",
        "outputId": "503d9121-3ce0-415f-9ca0-62edfe23b127"
      },
      "execution_count": null,
      "outputs": [
        {
          "output_type": "execute_result",
          "data": {
            "text/plain": [
              "array([[0., 0., 0.],\n",
              "       [0., 0., 0.],\n",
              "       [0., 0., 0.]])"
            ]
          },
          "metadata": {},
          "execution_count": 103
        }
      ]
    },
    {
      "cell_type": "code",
      "source": [
        "a_dot_z = T.dot(np.zeros(T.shape))\n",
        "a_dot_z"
      ],
      "metadata": {
        "colab": {
          "base_uri": "https://localhost:8080/"
        },
        "id": "ErnyX3f0JKbN",
        "outputId": "397c5546-9346-4cf1-807b-10de0cf64676"
      },
      "execution_count": null,
      "outputs": [
        {
          "output_type": "execute_result",
          "data": {
            "text/plain": [
              "array([[0., 0., 0.],\n",
              "       [0., 0., 0.],\n",
              "       [0., 0., 0.]])"
            ]
          },
          "metadata": {},
          "execution_count": 102
        }
      ]
    },
    {
      "cell_type": "code",
      "source": [
        "np.array_equal(a_dot_z,z_mat)"
      ],
      "metadata": {
        "colab": {
          "base_uri": "https://localhost:8080/"
        },
        "id": "Mj6z1ZKMJSVg",
        "outputId": "6b0d23eb-d77c-4486-e37e-3a1f2feeb17b"
      },
      "execution_count": null,
      "outputs": [
        {
          "output_type": "execute_result",
          "data": {
            "text/plain": [
              "True"
            ]
          },
          "metadata": {},
          "execution_count": 104
        }
      ]
    },
    {
      "cell_type": "code",
      "source": [
        "null_mat = np.empty(B.shape, dtype=float)\n",
        "null = np.array(null_mat,dtype=float)\n",
        "print(null)\n",
        "np.allclose(a_dot_z,null)"
      ],
      "metadata": {
        "colab": {
          "base_uri": "https://localhost:8080/"
        },
        "id": "9KOnSFaEJVzT",
        "outputId": "449c5b35-613b-467a-db60-c2f22ee86d06"
      },
      "execution_count": null,
      "outputs": [
        {
          "output_type": "stream",
          "name": "stdout",
          "text": [
            "[[0. 0. 0.]\n",
            " [0. 0. 0.]\n",
            " [0. 0. 0.]]\n"
          ]
        },
        {
          "output_type": "execute_result",
          "data": {
            "text/plain": [
              "True"
            ]
          },
          "metadata": {},
          "execution_count": 105
        }
      ]
    },
    {
      "cell_type": "code",
      "source": [
        "np.array_equiv(A.dot(B), A.dot(T))"
      ],
      "metadata": {
        "colab": {
          "base_uri": "https://localhost:8080/"
        },
        "id": "8zymgtWpJ98O",
        "outputId": "0d373f1d-64b2-427c-8659-16c43af1d035"
      },
      "execution_count": null,
      "outputs": [
        {
          "output_type": "execute_result",
          "data": {
            "text/plain": [
              "False"
            ]
          },
          "metadata": {},
          "execution_count": 111
        }
      ]
    },
    {
      "cell_type": "code",
      "source": [
        "np.array_equiv(B.dot(S), T.dot(S))"
      ],
      "metadata": {
        "colab": {
          "base_uri": "https://localhost:8080/"
        },
        "id": "5CmjeQiIKLDh",
        "outputId": "cf09dcd5-e7c4-48ea-f857-0921165d4206"
      },
      "execution_count": null,
      "outputs": [
        {
          "output_type": "execute_result",
          "data": {
            "text/plain": [
              "False"
            ]
          },
          "metadata": {},
          "execution_count": 115
        }
      ]
    },
    {
      "cell_type": "code",
      "source": [
        "np.array_equiv(S.dot(T),B)"
      ],
      "metadata": {
        "colab": {
          "base_uri": "https://localhost:8080/"
        },
        "id": "wHEmI8BPKU6z",
        "outputId": "98f515c1-aada-4017-f045-fca6d515df29"
      },
      "execution_count": null,
      "outputs": [
        {
          "output_type": "execute_result",
          "data": {
            "text/plain": [
              "False"
            ]
          },
          "metadata": {},
          "execution_count": 113
        }
      ]
    },
    {
      "cell_type": "markdown",
      "source": [
        "### Determinant"
      ],
      "metadata": {
        "id": "gm3FER-xLXB6"
      }
    },
    {
      "cell_type": "code",
      "source": [
        "M = np.array([\n",
        "    [0,9],\n",
        "    [13,4]\n",
        "])\n",
        "np.linalg.det(M)"
      ],
      "metadata": {
        "colab": {
          "base_uri": "https://localhost:8080/"
        },
        "id": "yutf_D1_LbQ-",
        "outputId": "82466b77-19e2-4661-f043-d6fe210c4312"
      },
      "execution_count": null,
      "outputs": [
        {
          "output_type": "execute_result",
          "data": {
            "text/plain": [
              "-117.00000000000003"
            ]
          },
          "metadata": {},
          "execution_count": 126
        }
      ]
    },
    {
      "cell_type": "code",
      "source": [
        "Z = np.array([\n",
        "    [3,3,3],\n",
        "    [0,1,2],\n",
        "    [2,5,6]\n",
        "])\n",
        "np.linalg.det(Z)"
      ],
      "metadata": {
        "colab": {
          "base_uri": "https://localhost:8080/"
        },
        "id": "Iltjg5g7L0ev",
        "outputId": "6d678ae0-d2d5-4d9f-c6fd-c6e006a6ca62"
      },
      "execution_count": null,
      "outputs": [
        {
          "output_type": "execute_result",
          "data": {
            "text/plain": [
              "-6.000000000000003"
            ]
          },
          "metadata": {},
          "execution_count": 119
        }
      ]
    },
    {
      "cell_type": "code",
      "source": [
        "V = np.array([\n",
        "    [2,6,2,1],\n",
        "    [2,4,0,3],\n",
        "    [5,2,3,2],\n",
        "    [5,0,1,1]\n",
        "])\n",
        "np.linalg.det(V)"
      ],
      "metadata": {
        "colab": {
          "base_uri": "https://localhost:8080/"
        },
        "id": "ri1dLBsOL9Ck",
        "outputId": "a2cfd825-95aa-4c8a-cef6-4151e25c39cf"
      },
      "execution_count": null,
      "outputs": [
        {
          "output_type": "execute_result",
          "data": {
            "text/plain": [
              "131.99999999999997"
            ]
          },
          "metadata": {},
          "execution_count": 124
        }
      ]
    },
    {
      "cell_type": "markdown",
      "source": [
        "### Inverse\n",
        "\n"
      ],
      "metadata": {
        "id": "iYi6l-kTNcWu"
      }
    },
    {
      "cell_type": "code",
      "source": [
        "N = np.array([\n",
        "    [2, 2, 9],\n",
        "    [4, -5, 2],\n",
        "    [2, 0, 3]\n",
        "])\n",
        "\n",
        "np.array(N @ np.linalg.inv(N), dtype=int)"
      ],
      "metadata": {
        "colab": {
          "base_uri": "https://localhost:8080/"
        },
        "id": "85niDYJ1ONHb",
        "outputId": "f1aba6ee-09eb-43eb-b932-e86f060766dc"
      },
      "execution_count": null,
      "outputs": [
        {
          "output_type": "execute_result",
          "data": {
            "text/plain": [
              "array([[1, 0, 0],\n",
              "       [0, 0, 0],\n",
              "       [0, 0, 0]])"
            ]
          },
          "metadata": {},
          "execution_count": 129
        }
      ]
    },
    {
      "cell_type": "code",
      "source": [
        "P = np.array([\n",
        "    [2, 8, 2],\n",
        "    [5, 2, 0],\n",
        "    [2, 4, 6,]\n",
        "              \n",
        "])\n",
        "Q = np.linalg.inv(P)\n",
        "Q"
      ],
      "metadata": {
        "colab": {
          "base_uri": "https://localhost:8080/"
        },
        "id": "cBsx6G0NObJs",
        "outputId": "16bf7808-b484-47a2-dd1b-d620349e2249"
      },
      "execution_count": null,
      "outputs": [
        {
          "output_type": "execute_result",
          "data": {
            "text/plain": [
              "array([[-0.06521739,  0.2173913 ,  0.02173913],\n",
              "       [ 0.16304348, -0.04347826, -0.05434783],\n",
              "       [-0.08695652, -0.04347826,  0.19565217]])"
            ]
          },
          "metadata": {},
          "execution_count": 142
        }
      ]
    },
    {
      "cell_type": "code",
      "source": [
        "P @ Q"
      ],
      "metadata": {
        "colab": {
          "base_uri": "https://localhost:8080/"
        },
        "id": "SI0RM2AuP7ln",
        "outputId": "7922e4fb-6af6-4d87-ae15-09c135aa607a"
      },
      "execution_count": null,
      "outputs": [
        {
          "output_type": "execute_result",
          "data": {
            "text/plain": [
              "array([[ 1.00000000e+00, -5.55111512e-17,  0.00000000e+00],\n",
              "       [ 0.00000000e+00,  1.00000000e+00,  0.00000000e+00],\n",
              "       [ 2.77555756e-17, -5.55111512e-17,  1.00000000e+00]])"
            ]
          },
          "metadata": {},
          "execution_count": 143
        }
      ]
    },
    {
      "cell_type": "markdown",
      "source": [
        "## Task 1"
      ],
      "metadata": {
        "id": "edvCbzOT4iBP"
      }
    },
    {
      "cell_type": "markdown",
      "source": [
        "Prove and implement the remaining 6 matrix multiplication properties. You may create your own matrices in which their shapes should not be lower than $(3,3)$.\n",
        "In your methodology, create individual flowcharts for each property and discuss the property you would then present your proofs or validity of your implementation in the results section by comparing your result to present functions from NumPy."
      ],
      "metadata": {
        "id": "fV_0FdpF4kpz"
      }
    },
    {
      "cell_type": "code",
      "source": [
        ""
      ],
      "metadata": {
        "id": "oOPV2aEf4l7W"
      },
      "execution_count": null,
      "outputs": []
    }
  ]
}
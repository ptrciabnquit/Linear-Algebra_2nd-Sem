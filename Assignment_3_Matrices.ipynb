{
  "nbformat": 4,
  "nbformat_minor": 0,
  "metadata": {
    "colab": {
      "name": "Assignment 3: Matrices",
      "provenance": [],
      "authorship_tag": "ABX9TyPBDgHSUPXMSay+CIikCRKw",
      "include_colab_link": true
    },
    "kernelspec": {
      "name": "python3",
      "display_name": "Python 3"
    },
    "language_info": {
      "name": "python"
    }
  },
  "cells": [
    {
      "cell_type": "markdown",
      "metadata": {
        "id": "view-in-github",
        "colab_type": "text"
      },
      "source": [
        "<a href=\"https://colab.research.google.com/github/ptrciabnquit/Linear-Algebra_2nd-Sem/blob/main/Assignment_3_Matrices.ipynb\" target=\"_parent\"><img src=\"https://colab.research.google.com/assets/colab-badge.svg\" alt=\"Open In Colab\"/></a>"
      ]
    },
    {
      "cell_type": "markdown",
      "source": [
        "# Linear Algeb for ChE\n",
        "\n",
        "## Laboratory 2 : Matrices"
      ],
      "metadata": {
        "id": "DM-nAcUDxfuS"
      }
    },
    {
      "cell_type": "markdown",
      "source": [
        "### *Objectives:*\n",
        "\n",
        "At the end of this activity you will be able to:\n",
        "\n",
        "\n",
        "\n",
        "1.   Be familiar with matrices and their relation to linear equations. \n",
        "2.   Perform basic matrix operations.\n",
        "3.   Program and translate matrix equations and operations using Python.\n",
        "\n",
        "\n",
        "\n"
      ],
      "metadata": {
        "id": "NkCPGdDZx2Sh"
      }
    },
    {
      "cell_type": "markdown",
      "source": [
        "### **Discussion**"
      ],
      "metadata": {
        "id": "xwDdVvgayG94"
      }
    },
    {
      "cell_type": "code",
      "source": [
        "import numpy as np\n",
        "import matplotlib.pyplot as plt\n",
        "import scipy.linalg as la\n",
        "%matplotlib inline"
      ],
      "metadata": {
        "id": "a0yWIc4NyNtc"
      },
      "execution_count": null,
      "outputs": []
    },
    {
      "cell_type": "markdown",
      "source": [
        "### **Matrices**"
      ],
      "metadata": {
        "id": "ZhgaI6ZyytMv"
      }
    },
    {
      "cell_type": "markdown",
      "source": [
        "#### The notation and use of matrices is probably one of the fundamentals of modern computing. Matrices are also hand representations of complex equations or multiple inter-related equations from 2-dimentional equation to even hundreds and thousands of them.\n",
        "\n",
        "\n",
        "Let's say for example you have ***A*** and ***B*** as system of equation:\n",
        "\n",
        "\n",
        "$$\n",
        "P = \\left\\{\n",
        "    \\begin{array}\\\n",
        "        a + y \\\\ \n",
        "        3a - 13y\n",
        "    \\end{array}\n",
        "\\right. \\\\\n",
        "B = \\left\\{\n",
        "    \\begin{array}\\\n",
        "        a+p+y \\\\ \n",
        "        3a -p -y \\\\\n",
        "        -2a + 2p +4y\n",
        "    \\end{array}\n",
        "\\right. $$\n",
        "\n",
        "\n",
        "\n",
        "\n",
        "\n",
        "\n",
        "\n",
        "\n",
        "\n",
        "\n",
        "\n",
        "\n",
        "\n",
        "\n"
      ],
      "metadata": {
        "id": "-wp_oiPlyxBc"
      }
    },
    {
      "cell_type": "markdown",
      "source": [
        "#### We could say that A is a system of 2 equations with 2 parameters. While B is a system of 3 equations with 3 parameters. We can represent them as matrices as: \n",
        "\n",
        ":$$\n",
        "P=\\begin{bmatrix} 1 & 1 \\\\ 3 & {-13}\\end{bmatrix} \\\\\n",
        "B=\\begin{bmatrix} 1 & 1 & 1 \\\\ 3 & -1 & -1 \\\\ -2 & 2 & 4\\end{bmatrix}\n",
        "$$\n",
        "\n",
        "\n",
        "\n",
        "\n",
        "\n",
        "\n",
        "\n",
        "\n",
        "\n"
      ],
      "metadata": {
        "id": "dXzJEWcg0SsH"
      }
    },
    {
      "cell_type": "markdown",
      "source": [
        "### **Declaring Matrices**\n",
        "\n",
        "The components of a matrix are the entities or values in matrices. Matrices have a category form in which these elements are structured and sorted in rows and columns. Additionally, these categorized elements align to their rows and columns, as with arrays. This can be expressed in the same manner as the expression below. Whereas $A$ is a matrix made up of elements represented by $a_{i,j}$. The number of rows in the matrix is expressed by $i$, meanwhile the number of columns.<br> is denoted by $j$. "
      ],
      "metadata": {
        "id": "NuW-aP1-3MnI"
      }
    },
    {
      "cell_type": "markdown",
      "source": [
        "$$A=\\begin{bmatrix}\n",
        "a_{(0,0)}&a_{(0,1)}&\\dots&a_{(0,j-1)}\\\\\n",
        "a_{(1,0)}&a_{(1,1)}&\\dots&a_{(1,j-1)}\\\\\n",
        "\\vdots&\\vdots&\\ddots&\\vdots&\\\\\n",
        "a_{(i-1,0)}&a_{(i-1,1)}&\\dots&a_{(i-1,j-1)}\n",
        "\\end{bmatrix}\n",
        "$$\n"
      ],
      "metadata": {
        "id": "yRUZNLpR3mDD"
      }
    },
    {
      "cell_type": "code",
      "source": [
        "## Since we'll keep on describing matrices, let's make a function!\n",
        "def describe_mat(matrix):\n",
        "  print(f'Matrix:\\n{matrix}\\n\\nShape:\\t{matrix.shape}\\nRank:\\t{matrix.ndim}\\n')"
      ],
      "metadata": {
        "id": "LJiCIz2O33PL"
      },
      "execution_count": null,
      "outputs": []
    },
    {
      "cell_type": "code",
      "source": [
        "## Declaring a 2 x 2 matrix\n",
        "P = np.array([\n",
        "    [2,3],\n",
        "    [4,4]\n",
        "])\n",
        "describe_mat(P)"
      ],
      "metadata": {
        "colab": {
          "base_uri": "https://localhost:8080/"
        },
        "id": "XH-18cWE4mLh",
        "outputId": "2541d7c9-640f-40ae-e8be-92ffe631b133"
      },
      "execution_count": null,
      "outputs": [
        {
          "output_type": "stream",
          "name": "stdout",
          "text": [
            "Matrix:\n",
            "[[2 3]\n",
            " [4 4]]\n",
            "\n",
            "Shape:\t(2, 2)\n",
            "Rank:\t2\n",
            "\n"
          ]
        }
      ]
    },
    {
      "cell_type": "code",
      "source": [
        "Y = np.array([\n",
        "    [13, 3],\n",
        "    [6, 13]\n",
        "])\n",
        "describe_mat(Y)\n"
      ],
      "metadata": {
        "colab": {
          "base_uri": "https://localhost:8080/"
        },
        "id": "62c-v76g6LF8",
        "outputId": "9d348711-1333-42b5-ac08-6ecfd07d0adc"
      },
      "execution_count": null,
      "outputs": [
        {
          "output_type": "stream",
          "name": "stdout",
          "text": [
            "Matrix:\n",
            "[[13  3]\n",
            " [ 6 13]]\n",
            "\n",
            "Shape:\t(2, 2)\n",
            "Rank:\t2\n",
            "\n"
          ]
        }
      ]
    },
    {
      "cell_type": "code",
      "source": [
        "## Declaring a 3 x 2 matrix\n",
        "B = np.array([\n",
        "    [2,3],\n",
        "    [4,4],\n",
        "    [2,0]\n",
        "])\n",
        "describe_mat(B)"
      ],
      "metadata": {
        "colab": {
          "base_uri": "https://localhost:8080/"
        },
        "id": "Ivy5q6Ru6jJq",
        "outputId": "5500284c-919b-432e-f83c-86d9f54729b3"
      },
      "execution_count": null,
      "outputs": [
        {
          "output_type": "stream",
          "name": "stdout",
          "text": [
            "Matrix:\n",
            "[[2 3]\n",
            " [4 4]\n",
            " [2 0]]\n",
            "\n",
            "Shape:\t(3, 2)\n",
            "Rank:\t2\n",
            "\n"
          ]
        }
      ]
    },
    {
      "cell_type": "markdown",
      "source": [
        "### **Categorizing Matrices**\n",
        "\n",
        "A categorizing matrix classifies all situations in the model by assessing whether the anticipated value corresponds to the actual value. The categorization matrix is a commonly used technique for evaluating statistical models; it is also known as a confusion matrix."
      ],
      "metadata": {
        "id": "TRtQ_nFM7RaT"
      }
    },
    {
      "cell_type": "markdown",
      "source": [
        "#### ***Row and Column Matrices***\n",
        "\n",
        "The phrases \"row and column matrices\" and \"row and column vectors are commonly interchangeable. Row and Column matrices are prominent in terms of vector and matrix calculations. Moreover, row and column matrices can also depict the rows and columns of broader subspaces. As a result, row matrices would be $i \\times 1$, whereas row matrices would be $1 \\times j$."
      ],
      "metadata": {
        "id": "gZ2OZTos7iNZ"
      }
    },
    {
      "cell_type": "code",
      "source": [
        "## Declaring a Row Matrix\n",
        "\n",
        "row_mat_1D = np.array([\n",
        "1,6,4,3\n",
        "]) ## this is a 1-D Matrix with a shape of (3,), it's not really considered as a row matrix.\n",
        "row_mat_2D = np.array([\n",
        "[3,4,6,8]                     \n",
        "]) ## this is a 2-D Matrix with a shape of (1,3)\n",
        "describe_mat(row_mat_1D)\n",
        "describe_mat(row_mat_2D)"
      ],
      "metadata": {
        "colab": {
          "base_uri": "https://localhost:8080/"
        },
        "id": "QilCCQhy71Cb",
        "outputId": "bf681ae2-bdc2-47c3-faf8-4ec4410810e3"
      },
      "execution_count": null,
      "outputs": [
        {
          "output_type": "stream",
          "name": "stdout",
          "text": [
            "Matrix:\n",
            "[1 6 4 3]\n",
            "\n",
            "Shape:\t(4,)\n",
            "Rank:\t1\n",
            "\n",
            "Matrix:\n",
            "[[3 4 6 8]]\n",
            "\n",
            "Shape:\t(1, 4)\n",
            "Rank:\t2\n",
            "\n"
          ]
        }
      ]
    },
    {
      "cell_type": "code",
      "source": [
        "## Declaring a Column Matrix \n",
        "\n",
        "colmat = np.array([\n",
        "  [893],\n",
        "  [48],\n",
        "  [333]\n",
        "]) ## this is a 2-D Matrix with a shape of (3,1)\n",
        "describe_mat(colmat)"
      ],
      "metadata": {
        "colab": {
          "base_uri": "https://localhost:8080/"
        },
        "id": "NVYI594m9XYa",
        "outputId": "f533a28c-079d-47f0-ce60-c82f61bb270e"
      },
      "execution_count": null,
      "outputs": [
        {
          "output_type": "stream",
          "name": "stdout",
          "text": [
            "Matrix:\n",
            "[[893]\n",
            " [ 48]\n",
            " [333]]\n",
            "\n",
            "Shape:\t(3, 1)\n",
            "Rank:\t2\n",
            "\n"
          ]
        }
      ]
    },
    {
      "cell_type": "markdown",
      "source": [
        "### ***Square Matrices***\n",
        "\n",
        "When the number of columns and rows are equal, They are known as Square Matrix, also called an n x n matrix."
      ],
      "metadata": {
        "id": "6jnkwhXw95Zh"
      }
    },
    {
      "cell_type": "code",
      "source": [
        "def describe_mat(matrix):\n",
        "    is_square = True if matrix.shape[0] == matrix.shape[1] else False\n",
        "    print(f'Matrix:\\n{matrix}\\n\\nShape:\\t{matrix.shape}\\nRank:\\t{matrix.ndim}\\nIs Square: {is_square}\\n')"
      ],
      "metadata": {
        "id": "EuQ-nabY9-g1"
      },
      "execution_count": null,
      "outputs": []
    },
    {
      "cell_type": "code",
      "source": [
        "square_mat = np.array([\n",
        "[1,13,67],\n",
        "[2,89,40],\n",
        "[66,11,22]     \n",
        "])\n",
        "non_square_mat = np.array([\n",
        "[3,5,6],\n",
        "[8,5,4]\n",
        "])\n",
        "describe_mat(square_mat)\n",
        "describe_mat(non_square_mat)"
      ],
      "metadata": {
        "colab": {
          "base_uri": "https://localhost:8080/"
        },
        "id": "6YoVxhpy_aDG",
        "outputId": "8a263656-abfb-4ba0-872a-af7bdaa8b3c6"
      },
      "execution_count": null,
      "outputs": [
        {
          "output_type": "stream",
          "name": "stdout",
          "text": [
            "Matrix:\n",
            "[[ 1 13 67]\n",
            " [ 2 89 40]\n",
            " [66 11 22]]\n",
            "\n",
            "Shape:\t(3, 3)\n",
            "Rank:\t2\n",
            "Is Square: True\n",
            "\n",
            "Matrix:\n",
            "[[3 5 6]\n",
            " [8 5 4]]\n",
            "\n",
            "Shape:\t(2, 3)\n",
            "Rank:\t2\n",
            "Is Square: False\n",
            "\n"
          ]
        }
      ]
    },
    {
      "cell_type": "markdown",
      "source": [
        "### **According to Element Values**"
      ],
      "metadata": {
        "id": "64p5o0fQBCVE"
      }
    },
    {
      "cell_type": "markdown",
      "source": [
        "#### ***Null Matrix***\n",
        "\n",
        "The null matrix is the additive identity of any matrix; that is why it is advantageous. Also, adding a null matrix to any matrix does not influence the value of the matrix; therefore, recognized as an additive identity. "
      ],
      "metadata": {
        "id": "jlfTa3EtBExI"
      }
    },
    {
      "cell_type": "code",
      "source": [
        "def describe_mat(matrix):\n",
        "    if matrix.size > 0:\n",
        "      is_square = True if matrix.shape[0] == matrix.shape[1] else False\n",
        "      print(f'Matrix:\\n{matrix}\\n\\nShape:\\t{matrix.shape}\\nRank:\\t{matrix.ndim}\\nIs Square: {is_square}\\n')\n",
        "    else:\n",
        "      print('The Matrix is Null')"
      ],
      "metadata": {
        "id": "6GoqjGJ6BMIQ"
      },
      "execution_count": null,
      "outputs": []
    },
    {
      "cell_type": "code",
      "source": [
        "null_mat = np.array([])\n",
        "describe_mat(null_mat)\n",
        "          "
      ],
      "metadata": {
        "colab": {
          "base_uri": "https://localhost:8080/"
        },
        "id": "aH4HrVG5BvKs",
        "outputId": "75ebad21-aff5-4101-8991-7dbde85cfa09"
      },
      "execution_count": null,
      "outputs": [
        {
          "output_type": "stream",
          "name": "stdout",
          "text": [
            "The Matrix is Null\n"
          ]
        }
      ]
    },
    {
      "cell_type": "markdown",
      "source": [
        "#### ***Zero Matrix***\n",
        "\n",
        "Zero matrices are an additive identity used for matrix addition. It is a matrix that is wholly composed of Zero components"
      ],
      "metadata": {
        "id": "QdMPAphdCIUo"
      }
    },
    {
      "cell_type": "code",
      "source": [
        "zero_mat_row = np.zeros((2,1))\n",
        "zero_mat_sqr = np.zeros((4,3))\n",
        "zero_mat_rct = np.zeros((5,5))\n",
        "\n",
        "print(f'Zero Row Matrix: \\n{zero_mat_row}')\n",
        "print(f'Zero Square Matrix: \\n{zero_mat_sqr}')\n",
        "print(f'Zero Rectangular Matrix: \\n{zero_mat_rct}')"
      ],
      "metadata": {
        "colab": {
          "base_uri": "https://localhost:8080/"
        },
        "id": "BLtqHlA1CK2-",
        "outputId": "959565c2-c92f-4884-dfff-33ef3b0bb99c"
      },
      "execution_count": null,
      "outputs": [
        {
          "output_type": "stream",
          "name": "stdout",
          "text": [
            "Zero Row Matrix: \n",
            "[[0.]\n",
            " [0.]]\n",
            "Zero Square Matrix: \n",
            "[[0. 0. 0.]\n",
            " [0. 0. 0.]\n",
            " [0. 0. 0.]\n",
            " [0. 0. 0.]]\n",
            "Zero Rectangular Matrix: \n",
            "[[0. 0. 0. 0. 0.]\n",
            " [0. 0. 0. 0. 0.]\n",
            " [0. 0. 0. 0. 0.]\n",
            " [0. 0. 0. 0. 0.]\n",
            " [0. 0. 0. 0. 0.]]\n"
          ]
        }
      ]
    },
    {
      "cell_type": "markdown",
      "source": [
        "#### ***Ones Matrix***\n",
        "\n",
        "The matrix of one can be any rectangular matrix, similarly to a zero matrix, yet whose elements are all 1s rather than 0s."
      ],
      "metadata": {
        "id": "lejPvZtXDb2w"
      }
    },
    {
      "cell_type": "code",
      "source": [
        "ones_mat_row = np.ones((3,3))\n",
        "ones_mat_sqr = np.ones((4,6))\n",
        "ones_mat_rct = np.ones((8,13))\n",
        "\n",
        "print(f'Ones Row Matrix: \\n{ones_mat_row}')\n",
        "print(f'Ones Square Matrix: \\n{ones_mat_sqr}')\n",
        "print(f'Ones Rectangular Matrix: \\n{ones_mat_rct}')"
      ],
      "metadata": {
        "colab": {
          "base_uri": "https://localhost:8080/"
        },
        "outputId": "0cb684c5-2632-4712-a690-8b8b9eba98af",
        "id": "mvYnux0ADvo8"
      },
      "execution_count": null,
      "outputs": [
        {
          "output_type": "stream",
          "name": "stdout",
          "text": [
            "Ones Row Matrix: \n",
            "[[1. 1. 1.]\n",
            " [1. 1. 1.]\n",
            " [1. 1. 1.]]\n",
            "Ones Square Matrix: \n",
            "[[1. 1. 1. 1. 1. 1.]\n",
            " [1. 1. 1. 1. 1. 1.]\n",
            " [1. 1. 1. 1. 1. 1.]\n",
            " [1. 1. 1. 1. 1. 1.]]\n",
            "Ones Rectangular Matrix: \n",
            "[[1. 1. 1. 1. 1. 1. 1. 1. 1. 1. 1. 1. 1.]\n",
            " [1. 1. 1. 1. 1. 1. 1. 1. 1. 1. 1. 1. 1.]\n",
            " [1. 1. 1. 1. 1. 1. 1. 1. 1. 1. 1. 1. 1.]\n",
            " [1. 1. 1. 1. 1. 1. 1. 1. 1. 1. 1. 1. 1.]\n",
            " [1. 1. 1. 1. 1. 1. 1. 1. 1. 1. 1. 1. 1.]\n",
            " [1. 1. 1. 1. 1. 1. 1. 1. 1. 1. 1. 1. 1.]\n",
            " [1. 1. 1. 1. 1. 1. 1. 1. 1. 1. 1. 1. 1.]\n",
            " [1. 1. 1. 1. 1. 1. 1. 1. 1. 1. 1. 1. 1.]]\n"
          ]
        }
      ]
    },
    {
      "cell_type": "markdown",
      "source": [
        "#### ***Diagonal Matrix***\n",
        "\n",
        "A Diagonal Matrix is a square matrix wherein all elements other than the primary diagonal are zeros, and the principal diagonal elements might be zeros or non-zeroes."
      ],
      "metadata": {
        "id": "YJfcMiWhEneU"
      }
    },
    {
      "cell_type": "code",
      "source": [
        "np.array([\n",
        "   [13,0,0],\n",
        "   [0,4,0],\n",
        "   [0,0,18]\n",
        "])\n",
        "# a[1,1], a[2,2], a[3,3],... a[n-1,n-1]"
      ],
      "metadata": {
        "colab": {
          "base_uri": "https://localhost:8080/"
        },
        "id": "LiM6U5hWEpQP",
        "outputId": "df95b758-92d7-4bb7-c9bb-4b4645b95a43"
      },
      "execution_count": null,
      "outputs": [
        {
          "output_type": "execute_result",
          "data": {
            "text/plain": [
              "array([[13,  0,  0],\n",
              "       [ 0,  4,  0],\n",
              "       [ 0,  0, 18]])"
            ]
          },
          "metadata": {},
          "execution_count": 53
        }
      ]
    },
    {
      "cell_type": "code",
      "source": [
        "d = np.diag([13,4,8,9])\n",
        "d.shape[0] == d.shape [1]\n",
        "d"
      ],
      "metadata": {
        "colab": {
          "base_uri": "https://localhost:8080/"
        },
        "id": "9pkH7uW2E_lN",
        "outputId": "24c82cd8-7a72-4b3f-b78a-298103375000"
      },
      "execution_count": null,
      "outputs": [
        {
          "output_type": "execute_result",
          "data": {
            "text/plain": [
              "array([[13,  0,  0,  0],\n",
              "       [ 0,  4,  0,  0],\n",
              "       [ 0,  0,  8,  0],\n",
              "       [ 0,  0,  0,  9]])"
            ]
          },
          "metadata": {},
          "execution_count": 54
        }
      ]
    },
    {
      "cell_type": "code",
      "source": [
        "d = np.diag([13,4,8,9,100])\n",
        "d.shape[0] == d.shape [1]\n",
        "d"
      ],
      "metadata": {
        "colab": {
          "base_uri": "https://localhost:8080/"
        },
        "outputId": "f24c8d7a-09fe-4d9e-c022-73fb7b84dfef",
        "id": "dGQWWvVqFhQx"
      },
      "execution_count": null,
      "outputs": [
        {
          "output_type": "execute_result",
          "data": {
            "text/plain": [
              "array([[ 13,   0,   0,   0,   0],\n",
              "       [  0,   4,   0,   0,   0],\n",
              "       [  0,   0,   8,   0,   0],\n",
              "       [  0,   0,   0,   9,   0],\n",
              "       [  0,   0,   0,   0, 100]])"
            ]
          },
          "metadata": {},
          "execution_count": 56
        }
      ]
    },
    {
      "cell_type": "markdown",
      "source": [
        "### ***Identity Matrix***\n",
        "\n",
        "A square matrix with the elements of the main diagonal identical with one and the other components equal to zero is known as an identity matrix. In the Python programming language, array objects are detailed lists for vector and matrix calculation."
      ],
      "metadata": {
        "id": "QP0ZhTB8F0tX"
      }
    },
    {
      "cell_type": "code",
      "source": [
        "np.eye(3)"
      ],
      "metadata": {
        "colab": {
          "base_uri": "https://localhost:8080/"
        },
        "id": "ElqlC2DmF29H",
        "outputId": "f0a65949-4702-4be5-e114-7615de64269a"
      },
      "execution_count": null,
      "outputs": [
        {
          "output_type": "execute_result",
          "data": {
            "text/plain": [
              "array([[1., 0., 0.],\n",
              "       [0., 1., 0.],\n",
              "       [0., 0., 1.]])"
            ]
          },
          "metadata": {},
          "execution_count": 57
        }
      ]
    },
    {
      "cell_type": "code",
      "source": [
        "np.identity(8)"
      ],
      "metadata": {
        "colab": {
          "base_uri": "https://localhost:8080/"
        },
        "id": "PR51OxMqF7st",
        "outputId": "cf2ec8db-3799-44cc-cd57-acf887a89f52"
      },
      "execution_count": null,
      "outputs": [
        {
          "output_type": "execute_result",
          "data": {
            "text/plain": [
              "array([[1., 0., 0., 0., 0., 0., 0., 0.],\n",
              "       [0., 1., 0., 0., 0., 0., 0., 0.],\n",
              "       [0., 0., 1., 0., 0., 0., 0., 0.],\n",
              "       [0., 0., 0., 1., 0., 0., 0., 0.],\n",
              "       [0., 0., 0., 0., 1., 0., 0., 0.],\n",
              "       [0., 0., 0., 0., 0., 1., 0., 0.],\n",
              "       [0., 0., 0., 0., 0., 0., 1., 0.],\n",
              "       [0., 0., 0., 0., 0., 0., 0., 1.]])"
            ]
          },
          "metadata": {},
          "execution_count": 58
        }
      ]
    },
    {
      "cell_type": "markdown",
      "source": [
        "### **Upper Triangular Matrix:**\n",
        "\n",
        "In an Upper triangular matrix, all items below the main diagonal are zero in. Additionally, the matrix with zero components above the main diagonal is referred to as a lower triangular matrix."
      ],
      "metadata": {
        "id": "Wn8YWuBNGB5F"
      }
    },
    {
      "cell_type": "code",
      "source": [
        "np.array([\n",
        "  [4,3,2,1],\n",
        "  [0,-1,-2,-3,],\n",
        "  [5,6,7,8],\n",
        "  [2,8,7,4]\n",
        "])"
      ],
      "metadata": {
        "colab": {
          "base_uri": "https://localhost:8080/"
        },
        "id": "I8nsUI0EGd5X",
        "outputId": "27954235-aff8-44d3-a02f-e252dcf068ea"
      },
      "execution_count": null,
      "outputs": [
        {
          "output_type": "execute_result",
          "data": {
            "text/plain": [
              "array([[ 4,  3,  2,  1],\n",
              "       [ 0, -1, -2, -3],\n",
              "       [ 5,  6,  7,  8],\n",
              "       [ 2,  8,  7,  4]])"
            ]
          },
          "metadata": {},
          "execution_count": 61
        }
      ]
    },
    {
      "cell_type": "markdown",
      "source": [
        "### **Lower Triangular Matrix**\n",
        "\n",
        "A matrix with no values above the diagonal is defined as a lower triangular matrix."
      ],
      "metadata": {
        "id": "uXnBvbgrGxpn"
      }
    },
    {
      "cell_type": "code",
      "source": [
        "np.array([\n",
        "  [1,2],\n",
        "  [2,1]\n",
        "])"
      ],
      "metadata": {
        "colab": {
          "base_uri": "https://localhost:8080/"
        },
        "id": "4M8OEeQ1G0TD",
        "outputId": "54d7dccd-e471-4384-d6f5-281b9d6ffabf"
      },
      "execution_count": null,
      "outputs": [
        {
          "output_type": "execute_result",
          "data": {
            "text/plain": [
              "array([[1, 2],\n",
              "       [2, 1]])"
            ]
          },
          "metadata": {},
          "execution_count": 64
        }
      ]
    },
    {
      "cell_type": "markdown",
      "source": [
        "### **Matrix Algebra**\n",
        "\n",
        "Matrix algebra is a notation for simultaneous equations that simplifies their presentation and solution. It may be used to generate a brief explanation of a structural issue and a mathematical structure model."
      ],
      "metadata": {
        "id": "c1Xz2u5GJQUp"
      }
    },
    {
      "cell_type": "markdown",
      "source": [
        "#### *Addition*"
      ],
      "metadata": {
        "id": "P8p4j1xdJSYW"
      }
    },
    {
      "cell_type": "code",
      "source": [
        "A = np.array([\n",
        "    [2,4],\n",
        "    [5,6],\n",
        "    [3,2]\n",
        "])\n",
        "B = np.array([\n",
        "    [2,2],\n",
        "    [3,6],\n",
        "    [8,8]\n",
        "])\n",
        "A+B"
      ],
      "metadata": {
        "colab": {
          "base_uri": "https://localhost:8080/"
        },
        "id": "maT9ibYqJUAf",
        "outputId": "a880482a-bd8e-4b2b-9e30-1c6cd3dc6925"
      },
      "execution_count": null,
      "outputs": [
        {
          "output_type": "execute_result",
          "data": {
            "text/plain": [
              "array([[ 4,  6],\n",
              "       [ 8, 12],\n",
              "       [11, 10]])"
            ]
          },
          "metadata": {},
          "execution_count": 65
        }
      ]
    },
    {
      "cell_type": "code",
      "source": [
        "3+A ##Broadcasting\n",
        "# 3*np.ones(A.shape)+A"
      ],
      "metadata": {
        "colab": {
          "base_uri": "https://localhost:8080/"
        },
        "id": "umKFUJDrJqxV",
        "outputId": "a1946bbd-466c-46d4-961d-50d3e800fd20"
      },
      "execution_count": null,
      "outputs": [
        {
          "output_type": "execute_result",
          "data": {
            "text/plain": [
              "array([[5, 7],\n",
              "       [8, 9],\n",
              "       [6, 5]])"
            ]
          },
          "metadata": {},
          "execution_count": 67
        }
      ]
    },
    {
      "cell_type": "markdown",
      "source": [
        "#### *Subtraction*"
      ],
      "metadata": {
        "id": "2eN462l3JoVc"
      }
    },
    {
      "cell_type": "code",
      "source": [
        "A-B"
      ],
      "metadata": {
        "colab": {
          "base_uri": "https://localhost:8080/"
        },
        "id": "1U9r4dvYJ6by",
        "outputId": "574b937b-3f4f-4936-c14c-8a921570f071"
      },
      "execution_count": null,
      "outputs": [
        {
          "output_type": "execute_result",
          "data": {
            "text/plain": [
              "array([[ 0,  2],\n",
              "       [ 2,  0],\n",
              "       [-5, -6]])"
            ]
          },
          "metadata": {},
          "execution_count": 68
        }
      ]
    },
    {
      "cell_type": "code",
      "source": [
        "2-B "
      ],
      "metadata": {
        "colab": {
          "base_uri": "https://localhost:8080/"
        },
        "id": "HAuvRgPcJ8NN",
        "outputId": "86ee0055-a49b-48b4-fa8f-2cffaff5a02e"
      },
      "execution_count": null,
      "outputs": [
        {
          "output_type": "execute_result",
          "data": {
            "text/plain": [
              "array([[ 0,  0],\n",
              "       [-1, -4],\n",
              "       [-6, -6]])"
            ]
          },
          "metadata": {},
          "execution_count": 70
        }
      ]
    },
    {
      "cell_type": "markdown",
      "source": [
        "#### *Element-Wise Multiplication*"
      ],
      "metadata": {
        "id": "TS8squDdKHH7"
      }
    },
    {
      "cell_type": "code",
      "source": [
        "A*B \n",
        "np.multiply(B,A)"
      ],
      "metadata": {
        "colab": {
          "base_uri": "https://localhost:8080/"
        },
        "id": "5-xfHHSTKJvn",
        "outputId": "057613f3-8409-4302-badb-0b3b2b446e6a"
      },
      "execution_count": null,
      "outputs": [
        {
          "output_type": "execute_result",
          "data": {
            "text/plain": [
              "array([[ 4,  8],\n",
              "       [15, 36],\n",
              "       [24, 16]])"
            ]
          },
          "metadata": {},
          "execution_count": 71
        }
      ]
    },
    {
      "cell_type": "code",
      "source": [
        "5*A"
      ],
      "metadata": {
        "colab": {
          "base_uri": "https://localhost:8080/"
        },
        "id": "A5e8OM_fKVK3",
        "outputId": "14900e25-d8a5-445d-eff4-fe62e670124c"
      },
      "execution_count": null,
      "outputs": [
        {
          "output_type": "execute_result",
          "data": {
            "text/plain": [
              "array([[10, 20],\n",
              "       [25, 30],\n",
              "       [15, 10]])"
            ]
          },
          "metadata": {},
          "execution_count": 72
        }
      ]
    },
    {
      "cell_type": "markdown",
      "source": [
        "## **Practice**"
      ],
      "metadata": {
        "id": "GrA8j-b2VNme"
      }
    },
    {
      "cell_type": "markdown",
      "source": [
        "1. Given the linear combination below, try to create a corresponding matrix representing it. \n",
        "\n"
      ],
      "metadata": {
        "id": "XloyKkM0VdC7"
      }
    },
    {
      "cell_type": "markdown",
      "metadata": {
        "id": "mQHWB7CBIfrZ"
      },
      "source": [
        "$$\\theta = 5x + 3y - z$$"
      ]
    },
    {
      "cell_type": "markdown",
      "source": [
        "$$\n",
        "\\theta = \\begin{bmatrix} 5  &  3 & -1\\end{bmatrix} \\\\\n",
        "$$"
      ],
      "metadata": {
        "id": "qoNHU1cpjEy0"
      }
    },
    {
      "cell_type": "markdown",
      "source": [
        "2. Given the system of linear combinations below, try to encode it as a matrix. Also describe the matrix.\n",
        "\n"
      ],
      "metadata": {
        "id": "F2IsZznKVjvc"
      }
    },
    {
      "cell_type": "markdown",
      "metadata": {
        "id": "5rsz78fcIfra"
      },
      "source": [
        "$$\n",
        "A = \\left\\{\\begin{array}\n",
        "5x_1 + 2x_2 +x_3\\\\\n",
        "4x_2 - x_3\\\\\n",
        "10x_3\n",
        "\\end{array}\\right.\n",
        "$$"
      ]
    },
    {
      "cell_type": "markdown",
      "source": [
        "3. Given the matrix below, express it as a linear combination in a markdown, and in a LaTex Markdown.\n",
        "\n"
      ],
      "metadata": {
        "id": "6TKwu2h4Vs7z"
      }
    },
    {
      "cell_type": "code",
      "metadata": {
        "id": "yTyAfGnQIfrb"
      },
      "source": [
        "G = np.array([\n",
        "    [1,7,8],\n",
        "    [2,2,2],\n",
        "    [4,6,7]\n",
        "])"
      ],
      "execution_count": null,
      "outputs": []
    },
    {
      "cell_type": "markdown",
      "source": [
        "\n",
        "$$\n",
        "G = \\begin{bmatrix} 1 & 7 & 8 \\\\ 2 & 2 & 2 \\\\ 4 & 6 & 7\\end{bmatrix}\n",
        "$$\n"
      ],
      "metadata": {
        "id": "V7fsGqWVYF1g"
      }
    },
    {
      "cell_type": "markdown",
      "source": [
        "$$\n",
        "G = \\left\\{\n",
        "    \\begin{array}\\\n",
        "        1 + 7 + 8 \\\\\n",
        "        2 + 2 + 2 \\\\\n",
        "        4 + 6 + 7 \\\\\n",
        "    \\end{array}\n",
        "\\right. \\\\\n",
        " $$"
      ],
      "metadata": {
        "id": "aIHxFOMGZsI0"
      }
    },
    {
      "cell_type": "markdown",
      "source": [
        "4. Given the matrix below, display the output as a LaTeX markdown also express it as a system of linear combinations. \n",
        "\n"
      ],
      "metadata": {
        "id": "2Uo4shaOV9LX"
      }
    },
    {
      "cell_type": "code",
      "metadata": {
        "id": "zXF2QjjRIfrd",
        "colab": {
          "base_uri": "https://localhost:8080/"
        },
        "outputId": "4b4deddc-6899-4cdb-f5ad-a764187ce9ee"
      },
      "source": [
        "H = np.tril(G)\n",
        "H"
      ],
      "execution_count": null,
      "outputs": [
        {
          "output_type": "execute_result",
          "data": {
            "text/plain": [
              "array([[1, 0, 0],\n",
              "       [2, 2, 0],\n",
              "       [4, 6, 7]])"
            ]
          },
          "metadata": {},
          "execution_count": 7
        }
      ]
    },
    {
      "cell_type": "markdown",
      "source": [
        "## **Activity**"
      ],
      "metadata": {
        "id": "OJ2G11wH33q6"
      }
    },
    {
      "cell_type": "markdown",
      "source": [
        "### ***Task 1***"
      ],
      "metadata": {
        "id": "D2O9cGyI4Gtp"
      }
    },
    {
      "cell_type": "markdown",
      "source": [
        "Create a function named `mat_desc()` that througouhly describes a matrix, it should: <br>\n",
        "1. Displays the shape, size, and rank of the matrix. <br>\n",
        "2. Displays whether the matrix is square or non-square. <br>\n",
        "3. Displays whether the matrix is an empty matrix. <br>\n",
        "4. Displays if the matrix is an identity, ones, or zeros matrix <br>\n",
        "   \n",
        "Use 5 sample matrices in which the actions and methods you have done. Present your results in the results ir shapes are not lower than $(3,3)$.\n",
        "In your methodology, create a flowchart discuss the section showing the description of each matrix you have declared."
      ],
      "metadata": {
        "id": "ycZhRGqt4Osq"
      }
    },
    {
      "cell_type": "code",
      "source": [
        "def mat_desc(matrix):\n",
        "  mat = np.array(matrix)\n",
        "  xx = False\n",
        "\n",
        "  iden = np.identity(matrix.shape[0]),\n",
        "  one = np.ones((matrix.shape[0], matrix.shape[1])),\n",
        "  zero = np.zeros((matrix.shape[0], matrix.shape[1]))\n",
        "\n",
        "  is_square = True if matrix.shape[0] == matrix.shape[1] else xx\n",
        "  is_Empty = True if(matrix.shape[0] == 0 and matrix.shape[1] == 0) else xx\n",
        "  is_Ind = True if(xx and (iden == mat).all()) else xx\n",
        "  is_uno = True if((one == mat).all()) else xx\n",
        "  is_zero = True  if((zero == mat).all()) else xx\n",
        "\n",
        "  print(f'Matrix:\\n{matrix}\\n\\nShape:\\t{matrix.shape}\\nSize:\\t{matrix.size}\\nRank:\\t{matrix.ndim}\\nIs Square: {is_square}\\nMatrix is Empty: {is_Empty}\\nMatrix is an Identity Matrix: {is_Ind}\\nMatrix is an ones matrix: {is_uno}\\nMatrix is an zeros matrix: {is_zero}\\n')\n"
      ],
      "metadata": {
        "id": "ru6FEKU364UM"
      },
      "execution_count": null,
      "outputs": []
    },
    {
      "cell_type": "code",
      "source": [
        "A = np.array([\n",
        "    [1, 1, 1],\n",
        "    [1, 1, 1],\n",
        "    [1, 1, 1]\n",
        "])\n",
        "mat_desc(A)"
      ],
      "metadata": {
        "colab": {
          "base_uri": "https://localhost:8080/"
        },
        "id": "Nf4Ym9W67lNV",
        "outputId": "d12ccefb-813d-42d8-f672-3fddbd646707"
      },
      "execution_count": null,
      "outputs": [
        {
          "output_type": "stream",
          "name": "stdout",
          "text": [
            "Matrix:\n",
            "[[1 1 1]\n",
            " [1 1 1]\n",
            " [1 1 1]]\n",
            "\n",
            "Shape:\t(3, 3)\n",
            "Size:\t9\n",
            "Rank:\t2\n",
            "Is Square: True\n",
            "Matrix is Empty: False\n",
            "Matrix is an Identity Matrix: False\n",
            "Matrix is an ones matrix: True\n",
            "Matrix is an zeros matrix: False\n",
            "\n"
          ]
        }
      ]
    },
    {
      "cell_type": "code",
      "source": [
        "B = np.array([\n",
        "    [8, 5, 2],\n",
        "    [9, 3, 4],\n",
        "    [1, 0, 1]\n",
        "])\n",
        "mat_desc(B)"
      ],
      "metadata": {
        "colab": {
          "base_uri": "https://localhost:8080/"
        },
        "id": "UbLOd4SI7q61",
        "outputId": "f20b3da0-478a-4289-ddc1-bb71cf62c386"
      },
      "execution_count": null,
      "outputs": [
        {
          "output_type": "stream",
          "name": "stdout",
          "text": [
            "Matrix:\n",
            "[[8 5 2]\n",
            " [9 3 4]\n",
            " [1 0 1]]\n",
            "\n",
            "Shape:\t(3, 3)\n",
            "Size:\t9\n",
            "Rank:\t2\n",
            "Is Square: True\n",
            "Matrix is Empty: False\n",
            "Matrix is an Identity Matrix: False\n",
            "Matrix is an ones matrix: False\n",
            "Matrix is an zeros matrix: False\n",
            "\n"
          ]
        }
      ]
    },
    {
      "cell_type": "code",
      "source": [
        "C = np.array([\n",
        "    [0, 0, 0],\n",
        "    [0, 0, 0],\n",
        "    [0, 0, 0]\n",
        "])\n",
        "mat_desc(C)"
      ],
      "metadata": {
        "colab": {
          "base_uri": "https://localhost:8080/"
        },
        "id": "9VgD_Ypa7zmU",
        "outputId": "72dc64f3-5f9f-45b0-9ca1-eaf6b14b108d"
      },
      "execution_count": null,
      "outputs": [
        {
          "output_type": "stream",
          "name": "stdout",
          "text": [
            "Matrix:\n",
            "[[0 0 0]\n",
            " [0 0 0]\n",
            " [0 0 0]]\n",
            "\n",
            "Shape:\t(3, 3)\n",
            "Size:\t9\n",
            "Rank:\t2\n",
            "Is Square: True\n",
            "Matrix is Empty: False\n",
            "Matrix is an Identity Matrix: False\n",
            "Matrix is an ones matrix: False\n",
            "Matrix is an zeros matrix: True\n",
            "\n"
          ]
        }
      ]
    },
    {
      "cell_type": "code",
      "source": [
        "D = np.array([\n",
        "    [3,6],\n",
        "    [2,8],\n",
        "    [1,0]\n",
        "])\n",
        "mat_desc(D)"
      ],
      "metadata": {
        "colab": {
          "base_uri": "https://localhost:8080/"
        },
        "id": "S2qb7-yg73Vo",
        "outputId": "fd7174b5-8389-4411-856f-22eef6ccbeb4"
      },
      "execution_count": null,
      "outputs": [
        {
          "output_type": "stream",
          "name": "stdout",
          "text": [
            "Matrix:\n",
            "[[3 6]\n",
            " [2 8]\n",
            " [1 0]]\n",
            "\n",
            "Shape:\t(3, 2)\n",
            "Size:\t6\n",
            "Rank:\t2\n",
            "Is Square: False\n",
            "Matrix is Empty: False\n",
            "Matrix is an Identity Matrix: False\n",
            "Matrix is an ones matrix: False\n",
            "Matrix is an zeros matrix: False\n",
            "\n"
          ]
        }
      ]
    },
    {
      "cell_type": "code",
      "source": [
        "E = np.array([\n",
        "    [4, 4, 4],\n",
        "    [4, 4, 4],\n",
        "    [4, 4, 4]\n",
        "])\n",
        "mat_desc(E)"
      ],
      "metadata": {
        "colab": {
          "base_uri": "https://localhost:8080/"
        },
        "id": "qfhQLW7Y7-Rq",
        "outputId": "17a78e05-358d-41b1-8405-e103991702ea"
      },
      "execution_count": null,
      "outputs": [
        {
          "output_type": "stream",
          "name": "stdout",
          "text": [
            "Matrix:\n",
            "[[4 4 4]\n",
            " [4 4 4]\n",
            " [4 4 4]]\n",
            "\n",
            "Shape:\t(3, 3)\n",
            "Size:\t9\n",
            "Rank:\t2\n",
            "Is Square: True\n",
            "Matrix is Empty: False\n",
            "Matrix is an Identity Matrix: False\n",
            "Matrix is an ones matrix: False\n",
            "Matrix is an zeros matrix: False\n",
            "\n"
          ]
        }
      ]
    },
    {
      "cell_type": "markdown",
      "source": [
        "### ***Task 2***"
      ],
      "metadata": {
        "id": "NJMxMBnw4ex4"
      }
    },
    {
      "cell_type": "markdown",
      "source": [
        "Create a function named `mat_operations()` that takes in two matrices a input parameters it should:<br>\n",
        " 1. Determines if the matrices are viable for operation and returns your own error message if they are not viable.\n",
        " 2. Returns the sum of the matrices.\n",
        " 3. Returns the differen of the matrices.\n",
        " 4. Returns the element-wise multiplication of the matrices.\n",
        " 5. Returns the element-wise division of the matrices.\n",
        "\n",
        "Use 5 sample matrices in which their shapes are not lower than $(3,3)$.\n",
        "In your methodology, create a flowchart discuss the functions and methods you have done. Present your results in the results section showing the description of each matrix you have declared."
      ],
      "metadata": {
        "id": "72m4bQd24mOZ"
      }
    },
    {
      "cell_type": "code",
      "source": [
        "def mat_operations(mat1,mat2):\n",
        "  if (len(mat1)<3 and len(mat1[0])<3) or (len(mat2)<3 and len(mat2[0])<3):\n",
        "    return 'Invalid Matrices. Please try again.'\n",
        "  \n",
        "  elif (len(mat1) !=len(mat2)) and (len(mat1[0]) != len(mat2[0])):\n",
        "    return 'Invalid Matrices. Please try again.'\n",
        "\n",
        "  else:\n",
        "    #Viable Matrices\n",
        "    print('1. Add Matrices (+) ')\n",
        "    print('2. Subtract Matrices (-) ')\n",
        "    print('3. Element-Wise Multiplication (*) ')\n",
        "    print('4. Element-Wise Division (/) ')\n",
        "\n",
        "    choice = int(input(\"Please Enter Desired Operation: \"))\n",
        "    result = [[None for _ in range(len(mat1))] for _ in range(len(mat1[0]))]\n",
        "\n",
        "    if choice==1:\n",
        "      #Perform Addition\n",
        "      for i in range(len(mat1)):\n",
        "        for j in range(len(mat1[0])):\n",
        "          result[i][j] = round(mat1[i][j] + mat2[i][j],3)\n",
        "\n",
        "      return 'The Sum of the Matrices are '+str(result)\n",
        "\n",
        "    if choice==2:\n",
        "      #Perform Subtraction\n",
        "      for i in range(len(mat1)):\n",
        "        for j in range(len(mat1[0])):\n",
        "          result[i][j] = round(mat1[i][j] - mat2[i][j],2)\n",
        "\n",
        "      return 'The Difference of the Matrices are '+str(result)\n",
        "\n",
        "    if choice==3:\n",
        "      #Perform Else-Wise Multiplication\n",
        "      for i in range(len(mat1)):\n",
        "        for j in range(len(mat1[0])):\n",
        "          result[i][j] = round(mat1[i][j] * mat2[i][j],4)\n",
        "\n",
        "      return 'The Product of the Matrices are '+str(result)\n",
        "\n",
        "    if choice==4:\n",
        "      #Perform Else-Wise Division\n",
        "      for i in range(len(mat1)):\n",
        "        for j in range(len(mat1[0])):\n",
        "          result[i][j] = round(mat1[i][j] / mat2[i][j],2)\n",
        "\n",
        "      return 'The Quotient of the Matrices are '+str(result)\n",
        "\n",
        "    else:\n",
        "      return 'No Operation Available. Please try again. '\n",
        "\n",
        "\n"
      ],
      "metadata": {
        "id": "dNkUubrfQ24x"
      },
      "execution_count": 1,
      "outputs": []
    },
    {
      "cell_type": "code",
      "source": [
        "K = [[10.23,-8, 4.7843],\n",
        "    [0 ,-2.09, 3.867],\n",
        "    [0 ,1, 5]]\n",
        "\n",
        "P = [[2, -9.003, 7],\n",
        "    [0, 1.454, 3.097],\n",
        "    [1,4,0]]\n",
        "    \n",
        "print(mat_operations(K,P))"
      ],
      "metadata": {
        "colab": {
          "base_uri": "https://localhost:8080/"
        },
        "id": "gZb8hzs5OpVK",
        "outputId": "dbcf0ebf-1853-4fc3-ae88-e9afc8bf557d"
      },
      "execution_count": 2,
      "outputs": [
        {
          "output_type": "stream",
          "name": "stdout",
          "text": [
            "1. Add Matrices (+) \n",
            "2. Subtract Matrices (-) \n",
            "3. Element-Wise Multiplication (*) \n",
            "4. Element-Wise Division (/) \n",
            "Please Enter Desired Operation: 3\n",
            "The Product of the Matrices are [[20.46, 72.024, 33.4901], [0, -3.0389, 11.9761], [0, 4, 0]]\n"
          ]
        }
      ]
    },
    {
      "cell_type": "code",
      "source": [
        "Z = [[10,8],\n",
        "    [0 ,2]]\n",
        "\n",
        "\n",
        "L = [[2,9],\n",
        "    [0,1]]\n",
        "     \n",
        "print(mat_operations(Z,L))"
      ],
      "metadata": {
        "colab": {
          "base_uri": "https://localhost:8080/"
        },
        "id": "4edNBkIoQG_z",
        "outputId": "188aee03-7bbe-4448-d5f1-67438315a956"
      },
      "execution_count": null,
      "outputs": [
        {
          "output_type": "stream",
          "name": "stdout",
          "text": [
            "Matrices are not viable for the operation. Please try again.\n"
          ]
        }
      ]
    },
    {
      "cell_type": "code",
      "source": [
        "D = [[30.432, -15, 5.21],\n",
        "    [5.25, 2.34, 5.89],\n",
        "    [2.00, 4.98, -2]]\n",
        "\n",
        "\n",
        "B = [[-5.55, -3.22, 5],\n",
        "     [5, 1, 1],\n",
        "    [2, 2, 2]]\n",
        "     \n",
        "print(mat_operations(D,B))"
      ],
      "metadata": {
        "colab": {
          "base_uri": "https://localhost:8080/"
        },
        "id": "JquvdJbiUPzb",
        "outputId": "5353acba-1b64-4ccc-9bd8-1bed449900c8"
      },
      "execution_count": 3,
      "outputs": [
        {
          "output_type": "stream",
          "name": "stdout",
          "text": [
            "1. Add Matrices (+) \n",
            "2. Subtract Matrices (-) \n",
            "3. Element-Wise Multiplication (*) \n",
            "4. Element-Wise Division (/) \n",
            "Please Enter Desired Operation: 2\n",
            "The Difference of the Matrices are [[35.98, -11.78, 0.21], [0.25, 1.34, 4.89], [0.0, 2.98, -4]]\n"
          ]
        }
      ]
    },
    {
      "cell_type": "code",
      "source": [
        "Y = [[30, -16, 5],\n",
        "    [25, 10, 14],\n",
        "    [-50, -30, 15]]\n",
        "\n",
        "\n",
        "K = [[2, 2, 2],\n",
        "     [2, 2, 2],\n",
        "    [2, 2, 2]]\n",
        "     \n",
        "print(mat_operations(Y,K))"
      ],
      "metadata": {
        "id": "JLFPgNjuXQwS",
        "outputId": "fb9cf99e-4ecc-4042-e3a2-babfa819b70b",
        "colab": {
          "base_uri": "https://localhost:8080/"
        }
      },
      "execution_count": 4,
      "outputs": [
        {
          "output_type": "stream",
          "name": "stdout",
          "text": [
            "1. Add Matrices (+) \n",
            "2. Subtract Matrices (-) \n",
            "3. Element-Wise Multiplication (*) \n",
            "4. Element-Wise Division (/) \n",
            "Please Enter Desired Operation: 4\n",
            "The Quotient of the Matrices are [[15.0, -8.0, 2.5], [12.5, 5.0, 7.0], [-25.0, -15.0, 7.5]]\n"
          ]
        }
      ]
    },
    {
      "cell_type": "code",
      "source": [
        "P = [[30, -16, 5],\n",
        "    [25, 10, 14],\n",
        "    [2, 2, 10],\n",
        "    [-50, -30, 15]]\n",
        "\n",
        "\n",
        "J = [[2, 2],\n",
        "     [2, 2, 2],\n",
        "    [2, 2, 2]]\n",
        "     \n",
        "print(mat_operations(P,J))"
      ],
      "metadata": {
        "id": "sMa6Ws0dXuQA",
        "outputId": "e8326200-54e5-4deb-ead2-ebba326eaae2",
        "colab": {
          "base_uri": "https://localhost:8080/"
        }
      },
      "execution_count": 5,
      "outputs": [
        {
          "output_type": "stream",
          "name": "stdout",
          "text": [
            "Invalid Matrices. Please try again.\n"
          ]
        }
      ]
    }
  ]
}
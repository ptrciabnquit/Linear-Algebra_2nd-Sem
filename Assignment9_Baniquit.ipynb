{
  "nbformat": 4,
  "nbformat_minor": 0,
  "metadata": {
    "colab": {
      "name": "Assignment9_Baniquit",
      "provenance": [],
      "authorship_tag": "ABX9TyPJs2OKlmN0Lz8hU1BMZkZ8",
      "include_colab_link": true
    },
    "kernelspec": {
      "name": "python3",
      "display_name": "Python 3"
    },
    "language_info": {
      "name": "python"
    }
  },
  "cells": [
    {
      "cell_type": "markdown",
      "metadata": {
        "id": "view-in-github",
        "colab_type": "text"
      },
      "source": [
        "<a href=\"https://colab.research.google.com/github/ptrciabnquit/Linear-Algebra_2nd-Sem/blob/main/Assignment9_Baniquit.ipynb\" target=\"_parent\"><img src=\"https://colab.research.google.com/assets/colab-badge.svg\" alt=\"Open In Colab\"/></a>"
      ]
    },
    {
      "cell_type": "markdown",
      "source": [
        "Plotting Vector using NumPy and MatPlotLib"
      ],
      "metadata": {
        "id": "05zQA9TcClkl"
      }
    },
    {
      "cell_type": "markdown",
      "source": [
        "In this laboratory we will be discussing the basics of numerical and scientific programming by working with Vectors using NumPy and MatPlotLib."
      ],
      "metadata": {
        "id": "Z9rqTmvmCtFT"
      }
    },
    {
      "cell_type": "markdown",
      "source": [
        "### Objectives\n",
        "At the end of this activity you will be able to:\n",
        "1. Be familiar with the libraries in Python for numerical and scientific programming.\n",
        "2. Visualize vectors through Python programming.\n",
        "3. Perform simple vector operations through code."
      ],
      "metadata": {
        "id": "At5n_BuICy16"
      }
    },
    {
      "cell_type": "markdown",
      "source": [
        "## **NumPy**"
      ],
      "metadata": {
        "id": "W3sTlSQjC0Ii"
      }
    },
    {
      "cell_type": "markdown",
      "source": [
        "#  ADD HERE DESCRIPTION"
      ],
      "metadata": {
        "id": "eojFZsqPC39x"
      }
    },
    {
      "cell_type": "markdown",
      "source": [
        "Scalars \\\\\n",
        "Represent magnitude or a single value\n",
        "\n",
        "Vectors \\\\\n",
        "Represent magnitude with directors"
      ],
      "metadata": {
        "id": "UvYueUGDRCdd"
      }
    },
    {
      "cell_type": "markdown",
      "source": [
        "## ***Representing Vectors***"
      ],
      "metadata": {
        "id": "D9IVzf2ODAmw"
      }
    },
    {
      "cell_type": "markdown",
      "source": [
        "Now that you know how to represent vectors using their component and matrix form we can now hard-code them in Python. Let's say that you have the vectors:"
      ],
      "metadata": {
        "id": "eR3qAMnvDEjM"
      }
    },
    {
      "cell_type": "markdown",
      "source": [
        "$$ A = 2\\hat{x} + 1\\hat{y} \\\\\n",
        "B = 6\\hat{x} + 4\\hat{y}\\\\\n",
        "C = 2ax + 1ay - 4az \\\\\n",
        "D = 8\\hat{i} - 1\\hat{j} + 2\\hat{k}$$"
      ],
      "metadata": {
        "id": "suk23PghDF9A"
      }
    },
    {
      "cell_type": "markdown",
      "source": [
        "In which it's matrix equivalent is:"
      ],
      "metadata": {
        "id": "58eat6BMDRGA"
      }
    },
    {
      "cell_type": "markdown",
      "source": [
        "$$ A = \\begin{bmatrix} 2 \\\\ 1\\end{bmatrix} , B = \\begin{bmatrix} 6 \\\\ 4\\end{bmatrix} , C = \\begin{bmatrix} 2 \\\\ 1 \\\\  4 \\end{bmatrix}, D = \\begin{bmatrix} 8 \\\\ -1 \\\\ 2\\end{bmatrix}\n",
        "$$\n",
        "$$ A = \\begin{bmatrix} 4 & 1\\end{bmatrix} , B = \\begin{bmatrix} 6 & 4\\end{bmatrix} , C = \\begin{bmatrix} 2 & 1 & -4\\end{bmatrix} , D = \\begin{bmatrix} 8 & -1 & 2\\end{bmatrix} \n",
        "$$"
      ],
      "metadata": {
        "id": "vZrLI2vCDRyo"
      }
    },
    {
      "cell_type": "markdown",
      "source": [
        "We can then start doing numpy code with this by:"
      ],
      "metadata": {
        "id": "B_BaseJOD2tL"
      }
    },
    {
      "cell_type": "code",
      "source": [
        "## Importing necessary libraries\n",
        "import numpy as np ## 'np' here is short-hand name of the library (numpy) or a nickname."
      ],
      "metadata": {
        "id": "j3flOacoD6Bh"
      },
      "execution_count": 1,
      "outputs": []
    },
    {
      "cell_type": "code",
      "source": [
        "P = np.array([0, 2])\n",
        "A = np.array([-1, 2])\n",
        "T = np.array([\n",
        "              [5],\n",
        "              [5],\n",
        "              [5]\n",
        "])\n",
        "Y = np.array ([[-2],\n",
        "              [0],\n",
        "              [-3]])\n",
        "print('Vector P is ', P)\n",
        "print('Vector A is ', A)\n",
        "print('Vector T is ', T)\n",
        "print('Vector Y is ', Y)"
      ],
      "metadata": {
        "colab": {
          "base_uri": "https://localhost:8080/"
        },
        "id": "re2EvqbtEK_f",
        "outputId": "e88fbece-57a2-4e53-c52c-1301e8a19ac8"
      },
      "execution_count": 57,
      "outputs": [
        {
          "output_type": "stream",
          "name": "stdout",
          "text": [
            "Vector P is  [0 2]\n",
            "Vector A is  [-1  2]\n",
            "Vector T is  [[5]\n",
            " [5]\n",
            " [5]]\n",
            "Vector Y is  [[-2]\n",
            " [ 0]\n",
            " [-3]]\n"
          ]
        }
      ]
    },
    {
      "cell_type": "markdown",
      "source": [
        "## ***Describing Vectors in NumPy***"
      ],
      "metadata": {
        "id": "iWPlgrCzEfJK"
      }
    },
    {
      "cell_type": "markdown",
      "source": [
        "# ADD DESCRIPTION HERE"
      ],
      "metadata": {
        "id": "Z1tzPuslEuUW"
      }
    },
    {
      "cell_type": "code",
      "source": [
        "### Checking shapes\n",
        "### Shapes tells us how many elements are there on each row and column\n",
        "\n",
        "P.shape\n",
        "A = np.array([2, 1, -4, 2, -1.5, 3])\n",
        "A.shape\n",
        "T.shape"
      ],
      "metadata": {
        "colab": {
          "base_uri": "https://localhost:8080/"
        },
        "id": "U2SKSCf-E36Z",
        "outputId": "050ba4a4-7214-4191-fea1-d042bfa4ca49"
      },
      "execution_count": 56,
      "outputs": [
        {
          "output_type": "execute_result",
          "data": {
            "text/plain": [
              "(3, 1)"
            ]
          },
          "metadata": {},
          "execution_count": 56
        }
      ]
    },
    {
      "cell_type": "code",
      "source": [
        "### Checking size\n",
        "### Array/Vector sizes tells us many total number of elements are there in the vector\n",
        "\n",
        "Y.size"
      ],
      "metadata": {
        "colab": {
          "base_uri": "https://localhost:8080/"
        },
        "id": "99zpWMDEF2s7",
        "outputId": "ba11ae29-ca3c-40d3-ae0e-9f1c4b75eeec"
      },
      "execution_count": 55,
      "outputs": [
        {
          "output_type": "execute_result",
          "data": {
            "text/plain": [
              "3"
            ]
          },
          "metadata": {},
          "execution_count": 55
        }
      ]
    },
    {
      "cell_type": "code",
      "source": [
        "### Checking dimensions\n",
        "### The dimensions or rank of a vector tells us how many dimensions are there for the vector.\n",
        "\n",
        "T.ndim"
      ],
      "metadata": {
        "colab": {
          "base_uri": "https://localhost:8080/"
        },
        "id": "W_eZeQ9rF8v0",
        "outputId": "b588b447-36ee-4b35-b1f5-b171fd7878b5"
      },
      "execution_count": 54,
      "outputs": [
        {
          "output_type": "execute_result",
          "data": {
            "text/plain": [
              "2"
            ]
          },
          "metadata": {},
          "execution_count": 54
        }
      ]
    },
    {
      "cell_type": "markdown",
      "source": [
        "Good job! ✅ We are done checking shapes, sizes, and dimensions the next step is to explore performing operations with these vectors"
      ],
      "metadata": {
        "id": "vvNkJRFAGBJ9"
      }
    },
    {
      "cell_type": "markdown",
      "source": [
        "### **ADDITION**"
      ],
      "metadata": {
        "id": "1VPiIjzyHJvw"
      }
    },
    {
      "cell_type": "markdown",
      "source": [
        "# **ADD DESCRIPTION HERE ABOUT ADDITION RULE IN VECTORS**\n",
        "\n",
        "For instance, adding vector $P$ and vector $B$ we will have a resulting vector:"
      ],
      "metadata": {
        "id": "6mkyO0XBHL6Z"
      }
    },
    {
      "cell_type": "markdown",
      "source": [
        "$$R = 10\\hat{x} -3\\hat{y} \\\\ \\\\or \\\\ \\\\ R = \\begin{bmatrix} 10 \\\\ -3\\end{bmatrix} $$"
      ],
      "metadata": {
        "id": "Mp5ivIR9Hl7p"
      }
    },
    {
      "cell_type": "markdown",
      "source": [
        "Creating that in NumPy in various ways:"
      ],
      "metadata": {
        "id": "C0YLKRGWH60d"
      }
    },
    {
      "cell_type": "code",
      "source": [
        "R = np.add(P, A) ## this is the functional method usisng the numpy library\n",
        "O = np.add(T, Y)"
      ],
      "metadata": {
        "id": "8s_hidtuICPn"
      },
      "execution_count": 53,
      "outputs": []
    },
    {
      "cell_type": "code",
      "source": [
        "R = P + A   ## this is the explicit method, since Python does a value-reference so it can \n",
        "            ## know that these variables would need to do array operations.\n",
        "R"
      ],
      "metadata": {
        "colab": {
          "base_uri": "https://localhost:8080/"
        },
        "id": "CdqWNmexIRSu",
        "outputId": "4c164477-c408-4330-b7a8-0c58a6022f13"
      },
      "execution_count": 58,
      "outputs": [
        {
          "output_type": "execute_result",
          "data": {
            "text/plain": [
              "array([-1,  4])"
            ]
          },
          "metadata": {},
          "execution_count": 58
        }
      ]
    },
    {
      "cell_type": "code",
      "source": [
        "pos1 = np.array([1,0,1])\n",
        "pos2 = np.array([1,2,3])\n",
        "pos3 = np.array([24,22,13])\n",
        "pos4 = np.array([2,4,2])\n",
        "#R = pos1 + pos2 + pos3 + pos4\n",
        "#R = np.multiply(pos3, pos4)\n",
        "R = pos3 / pos4\n",
        "R"
      ],
      "metadata": {
        "colab": {
          "base_uri": "https://localhost:8080/"
        },
        "id": "wF3ri3QRKnlg",
        "outputId": "1c3a29a7-69ba-4c28-f209-28e457240861"
      },
      "execution_count": 71,
      "outputs": [
        {
          "output_type": "execute_result",
          "data": {
            "text/plain": [
              "array([12. ,  5.5,  6.5])"
            ]
          },
          "metadata": {},
          "execution_count": 71
        }
      ]
    },
    {
      "cell_type": "markdown",
      "source": [
        "##### Try for yourself!"
      ],
      "metadata": {
        "id": "F-hh94K1LbUV"
      }
    },
    {
      "cell_type": "markdown",
      "source": [
        "Try to implement subtraction, multiplication, and division with vectors $V$ and $K$!"
      ],
      "metadata": {
        "id": "4aWz_NfiLg3m"
      }
    },
    {
      "cell_type": "code",
      "source": [
        "### Try out you code here! \n",
        "\n",
        "V = np.array([12, 28, 20])\n",
        "K = np.array([2, 4, 6])\n",
        "\n",
        "R = np.divide(V,K)\n",
        "R"
      ],
      "metadata": {
        "colab": {
          "base_uri": "https://localhost:8080/"
        },
        "id": "JCnmiaYeL8lx",
        "outputId": "238b9779-c4c8-46ab-86ae-a1f5c9b059ef"
      },
      "execution_count": 74,
      "outputs": [
        {
          "output_type": "execute_result",
          "data": {
            "text/plain": [
              "array([6.        , 7.        , 3.33333333])"
            ]
          },
          "metadata": {},
          "execution_count": 74
        }
      ]
    },
    {
      "cell_type": "code",
      "source": [
        "R = V - K \n",
        "R"
      ],
      "metadata": {
        "colab": {
          "base_uri": "https://localhost:8080/"
        },
        "id": "c8T-ZCPENV3Y",
        "outputId": "b5d9c956-0914-4075-8429-2353a9895c25"
      },
      "execution_count": 75,
      "outputs": [
        {
          "output_type": "execute_result",
          "data": {
            "text/plain": [
              "array([10, 24, 14])"
            ]
          },
          "metadata": {},
          "execution_count": 75
        }
      ]
    },
    {
      "cell_type": "code",
      "source": [
        "R = np.multiply(V,K)\n",
        "R"
      ],
      "metadata": {
        "colab": {
          "base_uri": "https://localhost:8080/"
        },
        "id": "1GM7WsyANby6",
        "outputId": "d5f31da0-3332-4cc6-813b-782d267ffa8c"
      },
      "execution_count": 76,
      "outputs": [
        {
          "output_type": "execute_result",
          "data": {
            "text/plain": [
              "array([ 24, 112, 120])"
            ]
          },
          "metadata": {},
          "execution_count": 76
        }
      ]
    },
    {
      "cell_type": "markdown",
      "source": [
        "# **Scaling**"
      ],
      "metadata": {
        "id": "TDBonECPOE9B"
      }
    },
    {
      "cell_type": "markdown",
      "source": [
        "# ***ADD DESCRIPTION HERE***\n",
        "\n",
        "Let's take the example below:"
      ],
      "metadata": {
        "id": "_jwSyJDwOTr6"
      }
    },
    {
      "cell_type": "markdown",
      "source": [
        "$$S = 13 \\cdot P$$"
      ],
      "metadata": {
        "id": "ZtlwrL7hOfGn"
      }
    },
    {
      "cell_type": "markdown",
      "source": [
        "We can do this in numpy through:"
      ],
      "metadata": {
        "id": "b_DiyngLOk-Q"
      }
    },
    {
      "cell_type": "code",
      "source": [
        "#S = 13 * P\n",
        "S = np.multiply(13,P)\n",
        "S"
      ],
      "metadata": {
        "colab": {
          "base_uri": "https://localhost:8080/"
        },
        "id": "vADrU_KcOnee",
        "outputId": "fd4b72b3-ae5b-4eef-b1ce-2f06ae7c650c"
      },
      "execution_count": 82,
      "outputs": [
        {
          "output_type": "execute_result",
          "data": {
            "text/plain": [
              "array([ 0, 26])"
            ]
          },
          "metadata": {},
          "execution_count": 82
        }
      ]
    },
    {
      "cell_type": "markdown",
      "source": [
        "Try to implement scaling with two vectors."
      ],
      "metadata": {
        "id": "kHOmw6MrPLgV"
      }
    },
    {
      "cell_type": "markdown",
      "source": [
        "$$S = 12 \\cdot T$$"
      ],
      "metadata": {
        "id": "eLfJy680QADN"
      }
    },
    {
      "cell_type": "code",
      "source": [
        "#S = 12 * T\n",
        "S = np.multiply(12,T)\n",
        "S"
      ],
      "metadata": {
        "colab": {
          "base_uri": "https://localhost:8080/"
        },
        "id": "mEmEi3fMQGki",
        "outputId": "a9fd3bd0-ecc0-4cea-8041-e4fb00ee62f9"
      },
      "execution_count": 84,
      "outputs": [
        {
          "output_type": "execute_result",
          "data": {
            "text/plain": [
              "array([[60],\n",
              "       [60],\n",
              "       [60]])"
            ]
          },
          "metadata": {},
          "execution_count": 84
        }
      ]
    },
    {
      "cell_type": "markdown",
      "source": [
        "$$S = 3 \\cdot A$$"
      ],
      "metadata": {
        "id": "NATRO7r2QMuQ"
      }
    },
    {
      "cell_type": "code",
      "source": [
        "#S = 3 * A\n",
        "S = np.multiply(3,A)\n",
        "S"
      ],
      "metadata": {
        "colab": {
          "base_uri": "https://localhost:8080/"
        },
        "id": "6IftLYQuQRN1",
        "outputId": "3178f087-96ee-403a-cd58-90bf331a0abd"
      },
      "execution_count": 85,
      "outputs": [
        {
          "output_type": "execute_result",
          "data": {
            "text/plain": [
              "array([-3,  6])"
            ]
          },
          "metadata": {},
          "execution_count": 85
        }
      ]
    },
    {
      "cell_type": "markdown",
      "source": [
        "$$S = 2 \\cdot P \\cdot Y$$"
      ],
      "metadata": {
        "id": "iANUsY6CQhZu"
      }
    },
    {
      "cell_type": "code",
      "source": [
        "#S = 2 * P * Y\n",
        "S = np.multiply(2, P, Y)\n",
        "S"
      ],
      "metadata": {
        "colab": {
          "base_uri": "https://localhost:8080/"
        },
        "id": "7iJG2b_aQqZZ",
        "outputId": "aa3aa654-4f86-4951-d2bc-17c699514a55"
      },
      "execution_count": 86,
      "outputs": [
        {
          "output_type": "execute_result",
          "data": {
            "text/plain": [
              "array([0, 4])"
            ]
          },
          "metadata": {},
          "execution_count": 86
        }
      ]
    },
    {
      "cell_type": "code",
      "source": [
        "S1 = np.multiply(2,A)\n",
        "S2 = np.multiply(3, P , Y)\n",
        "\n",
        "S1,S2\n"
      ],
      "metadata": {
        "colab": {
          "base_uri": "https://localhost:8080/"
        },
        "id": "LaRzimCbRlJk",
        "outputId": "7f9f6dd5-7395-44e7-a5d7-a7f8aca15b7c"
      },
      "execution_count": 94,
      "outputs": [
        {
          "output_type": "execute_result",
          "data": {
            "text/plain": [
              "(array([ 0, 12]), array([0, 6]))"
            ]
          },
          "metadata": {},
          "execution_count": 94
        }
      ]
    },
    {
      "cell_type": "markdown",
      "source": [
        "# **MatPlotLib**"
      ],
      "metadata": {
        "id": "ef4d4j4rSLqw"
      }
    },
    {
      "cell_type": "markdown",
      "source": [
        "# ***INSERT DESCRIPTION HERE***"
      ],
      "metadata": {
        "id": "_bpVR8VtSRUg"
      }
    },
    {
      "cell_type": "markdown",
      "source": [
        "## ***Visualizing Data***"
      ],
      "metadata": {
        "id": "3NvKC498SVDY"
      }
    },
    {
      "cell_type": "markdown",
      "source": [
        "It may be useful to visualize these vectors in addition to solving them. For that, we'll employ MatPlotLib. Initially, we'll need to import it.\n",
        "\n"
      ],
      "metadata": {
        "id": "rTd2ANJiSaZo"
      }
    },
    {
      "cell_type": "code",
      "source": [
        "import matplotlib.pyplot as plt\n",
        "import matplotlib\n",
        "%matplotlib inline"
      ],
      "metadata": {
        "id": "u7R4UCIwTLYL"
      },
      "execution_count": 95,
      "outputs": []
    },
    {
      "cell_type": "code",
      "source": [
        "A = [7, 8]\n",
        "B = [9, -4]\n",
        "plt.scatter(A[0], A[1], label='M', c='purple')\n",
        "plt.scatter(B[0], B[1], label='L', c='pink')\n",
        "plt.grid()\n",
        "plt.legend()\n",
        "plt.show()"
      ],
      "metadata": {
        "colab": {
          "base_uri": "https://localhost:8080/",
          "height": 265
        },
        "id": "rxEw_pXJTQGE",
        "outputId": "d966b016-d3b0-4f22-e549-a92aff13ed2e"
      },
      "execution_count": 96,
      "outputs": [
        {
          "output_type": "display_data",
          "data": {
            "text/plain": [
              "<Figure size 432x288 with 1 Axes>"
            ],
            "image/png": "[encoded data removed]"
          },
          "metadata": {
            "needs_background": "light"
          }
        }
      ]
    },
    {
      "cell_type": "code",
      "source": [
        "A = np.array([2, -1])\n",
        "B = np.array([-1, 2])\n",
        "R = A + B\n",
        "Magnitude = np.sqrt(np.sum(R**2))\n",
        "print(Magnitude)\n",
        "plt.title(\"Resultant Vector\\nMagnitude:{}\" .format(Magnitude))\n",
        "plt.xlim(-2, 3)\n",
        "plt.ylim(-3, 2)\n",
        "plt.quiver(0, 0, A[0], A[1], angles='xy', scale_units='xy', scale=1, color='orange')\n",
        "plt.quiver(A[0], A[1], B[0], B[1], angles='xy', scale_units='xy', scale=1, color='yellow')\n",
        "P = A + B\n",
        "plt.quiver(0, 0, R[0], R[1], angles='xy', scale_units='xy', scale=1, color='blue')\n",
        "plt.grid()\n",
        "plt.show()\n",
        "print(P)\n",
        "print(Magnitude)\n",
        "Slope = P[1]/P[0]\n",
        "print(Slope)\n",
        "Angle = (np.arctan(Slope))*(180/np.pi)\n",
        "print(Angle)"
      ],
      "metadata": {
        "colab": {
          "base_uri": "https://localhost:8080/",
          "height": 383
        },
        "id": "HVaNMc_LTqEj",
        "outputId": "659f211a-233e-4efb-c286-2940df38b618"
      },
      "execution_count": 102,
      "outputs": [
        {
          "output_type": "stream",
          "name": "stdout",
          "text": [
            "1.4142135623730951\n"
          ]
        },
        {
          "output_type": "display_data",
          "data": {
            "text/plain": [
              "<Figure size 432x288 with 1 Axes>"
            ],
            "image/png": "[encoded data removed]"
          },
          "metadata": {
            "needs_background": "light"
          }
        },
        {
          "output_type": "stream",
          "name": "stdout",
          "text": [
            "[1 1]\n",
            "1.4142135623730951\n",
            "1.0\n",
            "45.0\n"
          ]
        }
      ]
    },
    {
      "cell_type": "code",
      "source": [
        "n = P.shape[0]\n",
        "plt.xlim(-7, 7)\n",
        "plt.ylim(-7, 7)\n",
        "plt.quiver(0,0, A[0], A[1], angles='xy', scale_units='xy',scale=1, color='pink')\n",
        "plt.quiver(A[0],A[1], B[0], B[1], angles='xy', scale_units='xy',scale=1, color='gray')\n",
        "plt.quiver(0,0, R[0], R[1], angles='xy', scale_units='xy',scale=1, color='brown')\n",
        "plt.show()"
      ],
      "metadata": {
        "colab": {
          "base_uri": "https://localhost:8080/",
          "height": 265
        },
        "id": "Er59XEh6W4_p",
        "outputId": "58b09dc3-0a91-4b73-9b28-2386cb0014f4"
      },
      "execution_count": 110,
      "outputs": [
        {
          "output_type": "display_data",
          "data": {
            "text/plain": [
              "<Figure size 432x288 with 1 Axes>"
            ],
            "image/png": "[encoded data removed]"
          },
          "metadata": {
            "needs_background": "light"
          }
        }
      ]
    },
    {
      "cell_type": "markdown",
      "source": [
        "Try plotting Three Vectors and show the Resultant Vector as a result.\n",
        "Use Head to Tail Method."
      ],
      "metadata": {
        "id": "oto1sx62XzEt"
      }
    },
    {
      "cell_type": "code",
      "source": [
        ""
      ],
      "metadata": {
        "id": "CNW-NoWeZDyF"
      },
      "execution_count": 180,
      "outputs": []
    }
  ]
}